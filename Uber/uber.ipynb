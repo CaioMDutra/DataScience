{
 "cells": [
  {
   "cell_type": "code",
   "execution_count": 54,
   "metadata": {},
   "outputs": [],
   "source": [
    "from pyspark.sql.functions import *\n",
    "from pyspark.sql.types import *\n",
    "from pyspark.sql import SparkSession\n",
    "import matplotlib.pyplot as plt"
   ]
  },
  {
   "cell_type": "code",
   "execution_count": 3,
   "metadata": {},
   "outputs": [],
   "source": [
    "spark = (\n",
    "    SparkSession.builder\\\n",
    "    .appName(\"Spark\")\\\n",
    "    .master(\"local\")\\\n",
    "    .getOrCreate()\n",
    ")"
   ]
  },
  {
   "cell_type": "code",
   "execution_count": 4,
   "metadata": {},
   "outputs": [],
   "source": [
    "df = spark.read.csv(\"trips_data.csv\", header=True, inferSchema=True)"
   ]
  },
  {
   "cell_type": "code",
   "execution_count": 5,
   "metadata": {},
   "outputs": [
    {
     "data": {
      "text/plain": [
       "212"
      ]
     },
     "execution_count": 5,
     "metadata": {},
     "output_type": "execute_result"
    }
   ],
   "source": [
    "df.count()"
   ]
  },
  {
   "cell_type": "code",
   "execution_count": 6,
   "metadata": {},
   "outputs": [],
   "source": [
    "df =df.drop(col(\"Dropoff Lat\"),col(\"Dropoff Lng\"), col(\"Begin Trip Lat\"),col(\"Begin Trip Lng\") )"
   ]
  },
  {
   "cell_type": "code",
   "execution_count": 7,
   "metadata": {},
   "outputs": [],
   "source": [
    "df = df.withColumnRenamed(\"City\",\"Cidade\").withColumnRenamed(\"Product Type\",\"Produto\").withColumnRenamed(\"Trip or Order Status\",\"Status_corrida\").withColumnRenamed(\"Request Time\",\"Request Time\")\\\n",
    "    .withColumnRenamed(\"Begin Trip Time\",\"Inicio_corrida\").withColumnRenamed(\"Begin Trip Address\",\"Origem\").withColumnRenamed(\"Dropoff Time\",\"Hora_finalizada\").withColumnRenamed(\"Dropoff Address\",\"Destino\")\\\n",
    "    .withColumnRenamed(\"Distance (miles)\",\"Distancia_milhas\").withColumnRenamed(\"Fare Amount\",\"Preco\").withColumnRenamed(\"Fare Currency\",\"Moeda\")"
   ]
  },
  {
   "cell_type": "code",
   "execution_count": 8,
   "metadata": {},
   "outputs": [],
   "source": [
    "df =df.withColumn(\"Preco\", col(\"Preco\").cast(FloatType()))"
   ]
  },
  {
   "cell_type": "code",
   "execution_count": 9,
   "metadata": {},
   "outputs": [
    {
     "name": "stdout",
     "output_type": "stream",
     "text": [
      "+---------+-------+--------------+-----------------------------+-----------------------------+----------------------------------------------------------------------------------+-----------------------------+--------------------------------------------------------------------------------------+----------------+-----+-----+\n",
      "|Cidade   |Produto|Status_corrida|Request Time                 |Inicio_corrida               |Origem                                                                            |Hora_finalizada              |Destino                                                                               |Distancia_milhas|Preco|Moeda|\n",
      "+---------+-------+--------------+-----------------------------+-----------------------------+----------------------------------------------------------------------------------+-----------------------------+--------------------------------------------------------------------------------------+----------------+-----+-----+\n",
      "|Sao Paulo|UberX  |COMPLETED     |2023-10-03 14:12:50 +0000 UTC|2023-10-03 14:22:10 +0000 UTC|R. Dr. José Guilherme Eiras, 123 - São Miguel Paulista - São Paulo - SP, 08010-220|2023-10-03 14:33:55 +0000 UTC|Rua Cambacica, 338 - São Paulo - SP, 08032-440                                        |2.53            |13.12|BRL  |\n",
      "|Sao Paulo|UberX  |COMPLETED     |2023-09-28 17:11:54 +0000 UTC|2023-09-28 17:19:38 +0000 UTC|Rua Fernando Falcão, 1111 - São Paulo - São Paulo - SP, 03180-003                 |2023-09-28 17:33:17 +0000 UTC|Av. Alcântara Machado, S/N - Belenzinho - São Paulo - SP, 03302-000                   |2.66            |19.97|BRL  |\n",
      "|Sao Paulo|UberX  |COMPLETED     |2023-09-28 16:32:21 +0000 UTC|2023-09-28 16:39:18 +0000 UTC|Av. Alcântara Machado, S/N - Belenzinho - São Paulo - SP, 03302-000               |2023-09-28 16:49:12 +0000 UTC|Rua Fernando Falcão, 1111 - São Paulo - São Paulo - SP, 03180-003                     |1.87            |14.94|BRL  |\n",
      "|Sao Paulo|UberX  |COMPLETED     |2023-09-10 22:10:54 +0000 UTC|2023-09-10 22:24:13 +0000 UTC|Rua Manoel Celestino Filho, 9 - São Miguel - São Paulo - SP, 08245-161            |2023-09-10 22:48:31 +0000 UTC|Rua Manuel Leiroz, 210 - Cangaiba - São Paulo - SP, 03735-180                         |6.25            |24.93|BRL  |\n",
      "|Sao Paulo|UberX  |COMPLETED     |2023-08-03 17:26:57 +0000 UTC|2023-08-03 17:29:53 +0000 UTC|Rua Fernando Falcão, 1111 - São Paulo - São Paulo - SP, 03180-003                 |2023-08-03 17:44:31 +0000 UTC|Av. Alcântara Machado, S/N - São Paulo - SP, 03302-000                                |2.69            |19.99|BRL  |\n",
      "|Sao Paulo|UberX  |COMPLETED     |2023-08-03 16:15:21 +0000 UTC|2023-08-03 16:18:41 +0000 UTC|Av. Alcântara Machado, S/N - São Paulo - SP, 03302-000                            |2023-08-03 16:27:52 +0000 UTC|Rua Fernando Falcão, 1111 - São Paulo - São Paulo - SP, 03180-003                     |1.85            |14.97|BRL  |\n",
      "|Sao Paulo|UberX  |COMPLETED     |2023-07-22 16:01:09 +0000 UTC|2023-07-22 16:13:19 +0000 UTC|Avenida Nordestina, 5643 - Lajeado - São Paulo - SP, 08431-410                    |2023-07-22 16:51:02 +0000 UTC|Rua Manuel Leiroz, 210 - Cangaiba - São Paulo - SP, 03735-180                         |9.44            |29.98|BRL  |\n",
      "|Sao Paulo|UberX  |COMPLETED     |2023-07-22 11:40:02 +0000 UTC|2023-07-22 11:44:47 +0000 UTC|Rua Manuel Leiroz, 210 - Cangaiba - São Paulo - SP, 03735-180                     |2023-07-22 12:16:51 +0000 UTC|Av. Nordestina, 4900 - Vila Nova Curuca, São Paulo - SP, 08032-000, Brasil            |9.45            |29.98|BRL  |\n",
      "|Sao Paulo|UberX  |COMPLETED     |2023-06-03 17:45:02 +0000 UTC|2023-06-03 17:50:11 +0000 UTC|Rua Manuel Leiroz, 210 - Cangaiba - São Paulo - SP, 03735-180                     |2023-06-03 18:04:19 +0000 UTC|R. Dr. João Ribeiro, 304 - Penha de França - São Paulo - SP, 03634-000                |2.64            |19.9 |BRL  |\n",
      "|Sao Paulo|UberX  |COMPLETED     |2023-05-02 13:52:43 +0000 UTC|2023-05-02 13:54:52 +0000 UTC|Acesso Estacionamento Av Aricanduva                                               |2023-05-02 14:20:12 +0000 UTC|Rua Manuel Leiroz, 210 - Cangaiba - São Paulo - SP, 03735-180                         |5.45            |22.94|BRL  |\n",
      "|Sao Paulo|UberX  |COMPLETED     |2023-05-02 13:00:39 +0000 UTC|2023-05-02 13:08:51 +0000 UTC|Rua Manuel Leiroz, 210 - Cangaiba - São Paulo - SP, 03735-180                     |2023-05-02 13:37:42 +0000 UTC|Shopping Aricanduva Av. Aricanduva, 5.555 - Jardim Marília - São Paulo - SP, 03930-110|6.21            |24.93|BRL  |\n",
      "|Sao Paulo|UberX  |COMPLETED     |2023-04-13 15:44:33 +0000 UTC|2023-04-13 15:52:52 +0000 UTC|R. Padre Adelino, 333 - Belém - São Paulo - SP, 03117-000                         |2023-04-13 16:16:45 +0000 UTC|Rua Manuel Leiroz, 210 - Cangaiba - São Paulo - SP, 03735-180                         |6.84            |31.96|BRL  |\n",
      "|Sao Paulo|UberX  |COMPLETED     |2023-04-08 22:23:38 +0000 UTC|2023-04-08 22:37:14 +0000 UTC|Av. Cassandoca, 571 - Mooca - São Paulo - SP, 03169-010                           |2023-04-08 23:03:04 +0000 UTC|Rua Manuel Leiroz, 210 - Cangaiba - São Paulo - SP, 03735-180                         |7.87            |32.99|BRL  |\n",
      "|Sao Paulo|UberX  |COMPLETED     |2023-04-08 18:24:16 +0000 UTC|2023-04-08 18:29:40 +0000 UTC|Rua Manuel Leiroz, 210 - Cangaiba - São Paulo - SP, 03735-180                     |2023-04-08 18:53:02 +0000 UTC|Rua Doutor Freire, 38 - Brás - São Paulo - SP, 03101-020                              |8.0             |25.09|BRL  |\n",
      "|Sao Paulo|UberX  |COMPLETED     |2023-04-08 01:40:31 +0000 UTC|2023-04-08 01:49:11 +0000 UTC|Rua Eduardo Vicente Nasser, 391 - Tucuruvi - São Paulo - SP, 02344-050            |2023-04-08 02:17:04 +0000 UTC|Rua Manuel Leiroz, 210 - Cangaiba - São Paulo - SP, 03735-180                         |11.88           |44.99|BRL  |\n",
      "|Sao Paulo|UberX  |COMPLETED     |2023-04-07 16:37:15 +0000 UTC|2023-04-07 16:56:15 +0000 UTC|Rua Manuel Leiroz, 297 - Cangaiba - São Paulo - SP, 03735-180                     |2023-04-07 17:26:53 +0000 UTC|Rua Otávio Lopes Castelo Branco, 40 - Tucuruvi - São Paulo - SP, 02345-020            |10.43           |29.92|BRL  |\n",
      "|Sao Paulo|UberX  |COMPLETED     |2023-04-05 21:47:48 +0000 UTC|2023-04-05 21:52:10 +0000 UTC|Estação Vila Matilde                                                              |2023-04-05 22:05:43 +0000 UTC|Rua Manuel Leiroz, 210 - Cangaiba - São Paulo - SP, 03735-180                         |2.08            |24.91|BRL  |\n",
      "|Sao Paulo|UberX  |COMPLETED     |2023-04-03 03:49:01 +0000 UTC|2023-04-03 03:55:02 +0000 UTC|Rua Otávio Lopes Castelo Branco, 40 - Tucuruvi - São Paulo - SP, 02345-020        |2023-04-03 04:19:07 +0000 UTC|Rua Manuel Leiroz, 210 - Cangaiba - São Paulo - SP, 03735-180                         |11.79           |44.92|BRL  |\n",
      "|Sao Paulo|UberX  |COMPLETED     |2023-04-02 14:42:23 +0000 UTC|2023-04-02 14:44:48 +0000 UTC|Rua Manuel Leiroz, 210 - Cangaiba - São Paulo - SP, 03735-180                     |2023-04-02 15:25:00 +0000 UTC|Rua Otávio Lopes Castelo Branco, 40 - Tucuruvi - São Paulo - SP, 02345-020            |10.03           |29.94|BRL  |\n",
      "|Sao Paulo|UberX  |COMPLETED     |2023-03-25 21:12:02 +0000 UTC|2023-03-25 21:16:03 +0000 UTC|Avenida Miruna, 561 - Moema - São Paulo - SP, 04084-002                           |2023-03-25 21:59:25 +0000 UTC|Rua Manuel Leiroz, 210 - Cangaiba - São Paulo - SP, 03735-180                         |16.29           |49.97|BRL  |\n",
      "+---------+-------+--------------+-----------------------------+-----------------------------+----------------------------------------------------------------------------------+-----------------------------+--------------------------------------------------------------------------------------+----------------+-----+-----+\n",
      "only showing top 20 rows\n",
      "\n"
     ]
    }
   ],
   "source": [
    "df.show(truncate=False)"
   ]
  },
  {
   "cell_type": "code",
   "execution_count": 10,
   "metadata": {},
   "outputs": [
    {
     "name": "stdout",
     "output_type": "stream",
     "text": [
      "+--------------+-----------------+\n",
      "|Cidade        |Quantidade_cidade|\n",
      "+--------------+-----------------+\n",
      "|Santos        |2                |\n",
      "|Sao Paulo     |178              |\n",
      "|Brasilia      |2                |\n",
      "|Rio de Janeiro|30               |\n",
      "+--------------+-----------------+\n",
      "\n"
     ]
    }
   ],
   "source": [
    "df.groupBy(\"Cidade\").agg(count(\"*\").alias(\"Quantidade_cidade\")).show(truncate=False)"
   ]
  },
  {
   "cell_type": "code",
   "execution_count": 11,
   "metadata": {},
   "outputs": [
    {
     "name": "stdout",
     "output_type": "stream",
     "text": [
      "+--------------+-------+---------------+-----------------------------+-----------------------------+----------------------------------------------------------------------------------------------------------------------+-----------------------------+------------------------------------------------------------------------------------------------------------+----------------+-----+-----+\n",
      "|Cidade        |Produto|Status_corrida |Request Time                 |Inicio_corrida               |Origem                                                                                                                |Hora_finalizada              |Destino                                                                                                     |Distancia_milhas|Preco|Moeda|\n",
      "+--------------+-------+---------------+-----------------------------+-----------------------------+----------------------------------------------------------------------------------------------------------------------+-----------------------------+------------------------------------------------------------------------------------------------------------+----------------+-----+-----+\n",
      "|Rio de Janeiro|uberX  |COMPLETED      |2017-02-12 23:55:27 +0000 UTC|2017-02-12 23:59:57 +0000 UTC|Rua Antônio Parreiras, 94 - Ipanema - Rio de Janeiro - RJ, 22411-020                                                  |2017-02-13 00:17:27 +0000 UTC|Av. Francisco Bicalho, 01 - Santo Cristo - Rio de Janeiro - RJ, 20220-310                                   |7.61            |24.46|BRL  |\n",
      "|Rio de Janeiro|uberX  |CANCELED       |2017-04-03 01:31:56 +0000 UTC|1970-01-01 00:00:00 +0000 UTC|Av. Atlântica, 3432 - Copacabana - Rio de Janeiro - RJ, 22070-001                                                     |1970-01-01 00:00:00 +0000 UTC|Rua Bulhões Carvalho, 547 - Copacabana - Rio de Janeiro - RJ, 22081-000                                     |0.0             |7.0  |BRL  |\n",
      "|Rio de Janeiro|uberX  |COMPLETED      |2017-04-03 01:45:04 +0000 UTC|2017-04-03 01:54:59 +0000 UTC|Rua Antônio Parreiras, 126 - Ipanema - Rio de Janeiro - RJ, 22411-020                                                 |2017-04-03 02:17:22 +0000 UTC|Av. Francisco Bicalho, 01 - Santo Cristo - Rio de Janeiro - RJ, 20220-310                                   |8.03            |22.75|BRL  |\n",
      "|Rio de Janeiro|uberX  |COMPLETED      |2017-04-15 19:20:51 +0000 UTC|2017-04-15 19:25:27 +0000 UTC|Rua Visconde de Pirajá, 44 - Ipanema - Rio de Janeiro - RJ, 22410-000                                                 |2017-04-15 19:52:57 +0000 UTC|Avenida Francisco Bicalho, 1 - Santo Cristo - Rio de Janeiro - RJ, 20220-310                                |8.05            |26.35|BRL  |\n",
      "|Rio de Janeiro|uberX  |COMPLETED      |2017-04-15 23:56:58 +0000 UTC|2017-04-16 00:00:31 +0000 UTC|R. Bolívar, 75 - Copacabana - Rio de Janeiro - RJ, 22061-020                                                          |2017-04-16 00:09:53 +0000 UTC|Rua Barão da Torre, 145 - Ipanema - Rio de Janeiro - RJ, 22411-001                                          |1.61            |7.75 |BRL  |\n",
      "|Rio de Janeiro|uberX  |COMPLETED      |2017-04-17 00:30:44 +0000 UTC|2017-04-17 00:34:30 +0000 UTC|Rua Antônio Parreiras, 138 - Ipanema - Rio de Janeiro - RJ, 22411-020                                                 |2017-04-17 01:12:56 +0000 UTC|Av. Prof. Pereira Reis, 36 - Santo Cristo - Rio de Janeiro - RJ, 20220-800                                  |8.47            |27.21|BRL  |\n",
      "|Rio de Janeiro|uberX  |CANCELED       |2017-05-22 01:23:06 +0000 UTC|1970-01-01 00:00:00 +0000 UTC|Rua Prudente de Morais, 276 - Ipanema - Rio de Janeiro - RJ, 22420-040                                                |1970-01-01 00:00:00 +0000 UTC|Rua Antônio Parreiras, 71 - Ipanema - Rio de Janeiro - RJ, 22411-020                                        |0.0             |7.0  |BRL  |\n",
      "|Rio de Janeiro|uberX  |COMPLETED      |2017-05-22 01:32:46 +0000 UTC|2017-05-22 01:40:01 +0000 UTC|R. Antônio Parreiras, 67 - Ipanema - Rio de Janeiro - RJ, 22411-020                                                   |2017-05-22 01:57:34 +0000 UTC|Av. Francisco Bicalho, 01 - Santo Cristo - Rio de Janeiro - RJ, 20220-310                                   |7.8             |23.05|BRL  |\n",
      "|Rio de Janeiro|uberX  |COMPLETED      |2017-06-05 01:03:15 +0000 UTC|2017-06-05 01:05:11 +0000 UTC|Rua Antônio Parreiras, 94 - Ipanema - Rio de Janeiro - RJ, 22411-020                                                  |2017-06-05 01:23:06 +0000 UTC|Av. Francisco Bicalho, 01 - Santo Cristo - Rio de Janeiro - RJ, 20220-310                                   |7.63            |23.4 |BRL  |\n",
      "|Rio de Janeiro|uberX  |COMPLETED      |2017-07-03 00:57:35 +0000 UTC|2017-07-03 01:02:05 +0000 UTC|Rua Antônio Parreiras, 71 - Ipanema - Rio de Janeiro - RJ, 22411-020                                                  |2017-07-03 01:22:13 +0000 UTC|Av. Francisco Bicalho, 01 - Santo Cristo - Rio de Janeiro - RJ, 20220-310                                   |7.49            |23.2 |BRL  |\n",
      "|Rio de Janeiro|uberX  |COMPLETED      |2017-07-24 00:49:28 +0000 UTC|2017-07-24 00:55:16 +0000 UTC|Rua Antônio Parreiras, 56 - Ipanema - Rio de Janeiro - RJ, 22411-020                                                  |2017-07-24 01:24:52 +0000 UTC|Rua Comandante Garcia Pires, 10 - Santo Cristo - Rio de Janeiro - RJ, 20220-250                             |7.92            |23.94|BRL  |\n",
      "|Rio de Janeiro|uberX  |COMPLETED      |2017-08-28 00:58:59 +0000 UTC|2017-08-28 01:03:45 +0000 UTC|Rua Antônio Parreiras, 94 - Ipanema - Rio de Janeiro - RJ, 22411-020                                                  |2017-08-28 01:20:15 +0000 UTC|Av. Francisco Bicalho, 01 - Santo Cristo - Rio de Janeiro - RJ, 20220-310                                   |7.48            |23.32|BRL  |\n",
      "|Rio de Janeiro|uberX  |COMPLETED      |2017-09-25 00:35:58 +0000 UTC|2017-09-25 00:37:49 +0000 UTC|Rua Antônio Parreiras, 71 - Ipanema - Rio de Janeiro - RJ, 22411-020                                                  |2017-09-25 01:09:05 +0000 UTC|Av. Francisco Bicalho, 01 - Santo Cristo - Rio de Janeiro - RJ, 20220-310                                   |7.72            |24.17|BRL  |\n",
      "|Rio de Janeiro|uberX  |COMPLETED      |2017-10-15 23:50:07 +0000 UTC|2017-10-15 23:54:32 +0000 UTC|R. Antônio Parreiras, 67 - Ipanema, Rio de Janeiro - RJ, 22411-020, Brazil                                            |2017-10-16 00:20:46 +0000 UTC|Av. Rio de Janeiro, 535 - Caju, Rio de Janeiro - RJ, 20931-675, Brazil                                      |7.54            |25.31|BRL  |\n",
      "|Rio de Janeiro|uberX  |CANCELED       |2017-12-10 23:47:15 +0000 UTC|1970-01-01 00:00:00 +0000 UTC|Rua Raul Pompéia, 195 - Copacabana - Rio de Janeiro - RJ, 22081                                                       |1970-01-01 00:00:00 +0000 UTC|R. Francisco Sá, 41 - Copacabana - Rio de Janeiro - RJ, 22080-010                                           |0.0             |0.0  |BRL  |\n",
      "|Rio de Janeiro|uberX  |COMPLETED      |2017-12-10 23:49:20 +0000 UTC|2017-12-10 23:51:57 +0000 UTC|R. Antônio Parreiras, 69 - Ipanema, Rio de Janeiro - RJ, 22411-020, Brazil                                            |2017-12-11 00:17:19 +0000 UTC|Rodoviária Novo Rio Av. Francisco Bicalho, No 01, 177 - Santo Cristo, Rio de Janeiro - RJ, 20220-250, Brazil|7.97            |40.3 |BRL  |\n",
      "|Rio de Janeiro|uberX  |COMPLETED      |2018-01-21 23:57:56 +0000 UTC|2018-01-22 00:02:14 +0000 UTC|R. Antônio Parreiras, 94 - Ipanema, Rio de Janeiro - RJ, 22411-020, Brasil                                            |2018-01-22 00:31:18 +0000 UTC|Av. Francisco Bicalho, 477 - Santo Cristo, Rio de Janeiro - RJ, 20220-310, Brasil                           |7.21            |23.33|BRL  |\n",
      "|Rio de Janeiro|uberX  |COMPLETED      |2018-02-26 00:30:30 +0000 UTC|2018-02-26 00:38:27 +0000 UTC|R. Antônio Parreiras, 69 - Ipanema, Rio de Janeiro - RJ, 22411-020, Brasil                                            |2018-02-26 00:56:47 +0000 UTC|Av. Francisco Bicalho, 110 - Santo Cristo, Rio de Janeiro - RJ, 20220-250, Brasil                           |7.49            |23.49|BRL  |\n",
      "|Rio de Janeiro|uberX  |COMPLETED      |2018-03-12 00:33:53 +0000 UTC|2018-03-12 00:36:40 +0000 UTC|R. Antônio Parreiras, 71 - Ipanema, Rio de Janeiro - RJ, 22411-020, Brasil                                            |2018-03-12 00:54:12 +0000 UTC|Rodoviária Novo Rio Av. Francisco Bicalho, No 01, 177 - Santo Cristo, Rio de Janeiro - RJ, 20220-250, Brasil|0.01            |7.75 |BRL  |\n",
      "|Rio de Janeiro|uberX  |COMPLETED      |2018-04-16 00:27:14 +0000 UTC|2018-04-16 00:33:08 +0000 UTC|R. Antônio Parreiras, 69 - Ipanema, Rio de Janeiro - RJ, 22411-020, Brasil                                            |2018-04-16 01:03:03 +0000 UTC|Rua Comandante García Píres, 61 - Santo Cristo, Rio de Janeiro - RJ, 20220-250, Brasil                      |8.89            |25.81|BRL  |\n",
      "|Rio de Janeiro|uberX  |DRIVER_CANCELED|2018-05-21 00:32:27 +0000 UTC|1970-01-01 00:00:00 +0000 UTC|Rua Gomes Carneiro, 138 - Ipanema - Rio de Janeiro - RJ, 22071-110                                                    |1970-01-01 00:00:00 +0000 UTC|Rua Bulhões Carvalho, 355 - Rio de Janeiro - Rio de Janeiro - RJ, 22081-000                                 |0.0             |0.0  |BRL  |\n",
      "|Rio de Janeiro|uberX  |COMPLETED      |2018-05-21 00:40:12 +0000 UTC|2018-05-21 00:41:49 +0000 UTC|R. Antônio Parreiras, 69 - Ipanema, Rio de Janeiro - RJ, 22411-020, Brasil                                            |2018-05-21 00:59:27 +0000 UTC|Av. Francisco Bicalho, 142 - Santo Cristo, Rio de Janeiro - RJ, 20220-250, Brasil                           |7.43            |28.63|BRL  |\n",
      "|Rio de Janeiro|UberX  |COMPLETED      |2018-07-02 01:36:21 +0000 UTC|2018-07-02 01:40:22 +0000 UTC|R. Antônio Parreiras, 100 - Ipanema, Rio de Janeiro - RJ, 22411-020, Brasil                                           |2018-07-02 01:58:13 +0000 UTC|Embarque - Santo Cristo, Rio de Janeiro - RJ, 20220-310, Brasil                                             |8.22            |29.73|BRL  |\n",
      "|Rio de Janeiro|UberX  |COMPLETED      |2018-07-23 01:45:18 +0000 UTC|2018-07-23 01:52:01 +0000 UTC|R. Antônio Parreiras, 67 - Ipanema, Rio de Janeiro - RJ, 22411-020, Brasil                                            |2018-07-23 02:15:02 +0000 UTC|Av. Rodrigues Alves, 114 - Saúde, Rio de Janeiro - RJ, 20220, Brasil                                        |9.23            |31.66|BRL  |\n",
      "|Rio de Janeiro|UberX  |COMPLETED      |2018-08-20 01:48:46 +0000 UTC|2018-08-20 01:55:21 +0000 UTC|R. Antônio Parreiras, 126 - Ipanema, Rio de Janeiro - RJ, 22411-020, Brasil                                           |2018-08-20 02:12:02 +0000 UTC|Av. Francisco Bicalho, 1 - Santo Cristo, Rio de Janeiro - RJ, 20220-310, Brasil                             |7.35            |29.41|BRL  |\n",
      "|Rio de Janeiro|UberX  |COMPLETED      |2018-10-01 02:28:46 +0000 UTC|2018-10-01 02:33:34 +0000 UTC|R. Antônio Parreiras, 69 - Ipanema, Rio de Janeiro - RJ, 22411-020, Brasil                                            |2018-10-01 02:47:56 +0000 UTC|Embarque - Santo Cristo, Rio de Janeiro - RJ, 20220-310, Brasil                                             |7.78            |26.53|BRL  |\n",
      "|Rio de Janeiro|UberX  |COMPLETED      |2018-10-22 00:30:36 +0000 UTC|2018-10-22 00:34:54 +0000 UTC|Condomínio do Edifício Solar Visconde de Piraja - R. Jangadeiros, 15 - Ipanema, Rio de Janeiro - RJ, 22420-010, Brasil|2018-10-22 01:00:16 +0000 UTC|Av. Francisco Bicalho, 1 - Santo Cristo, Rio de Janeiro - RJ, 20220-310, Brasil                             |8.83            |26.21|BRL  |\n",
      "|Rio de Janeiro|UberX  |COMPLETED      |2018-11-04 23:08:09 +0000 UTC|2018-11-04 23:11:26 +0000 UTC|Condomimio Edifício Antônio Parreiras - R. Antônio Parreiras, 56 - Ipanema, Rio de Janeiro - RJ, 22411-020, Brasil    |2018-11-04 23:41:33 +0000 UTC|Embarque - Santo Cristo, Rio de Janeiro - RJ, 20220-310, Brasil                                             |8.24            |25.15|BRL  |\n",
      "|Rio de Janeiro|UberX  |COMPLETED      |2018-12-03 00:52:56 +0000 UTC|2018-12-03 00:57:22 +0000 UTC|R. Antônio Parreiras, 69 - Ipanema, Rio de Janeiro - RJ, 22411-020, Brasil                                            |2018-12-03 01:16:49 +0000 UTC|Av. Francisco Bicalho, 1 - Santo Cristo, Rio de Janeiro - RJ, 20220-310, Brasil                             |8.0             |48.53|BRL  |\n",
      "|Rio de Janeiro|UberX  |COMPLETED      |2018-12-23 23:15:28 +0000 UTC|2018-12-23 23:24:32 +0000 UTC|Rua Antônio Parreiras, 60 - Ipanema - Rio de Janeiro - RJ, 22411-020                                                  |2018-12-23 23:51:06 +0000 UTC|Embarque - Santo Cristo, Rio de Janeiro - RJ, 20220-310, Brasil                                             |7.72            |31.07|BRL  |\n",
      "+--------------+-------+---------------+-----------------------------+-----------------------------+----------------------------------------------------------------------------------------------------------------------+-----------------------------+------------------------------------------------------------------------------------------------------------+----------------+-----+-----+\n",
      "\n"
     ]
    }
   ],
   "source": [
    "df.filter(col('Cidade')==\"Rio de Janeiro\").orderBy(\"Request Time\").show(30, truncate=False)"
   ]
  },
  {
   "cell_type": "code",
   "execution_count": 12,
   "metadata": {},
   "outputs": [
    {
     "name": "stdout",
     "output_type": "stream",
     "text": [
      "+--------+-----------+--------------+-----------------------------+-----------------------------+-------------------------------------------------------------------------+-----------------------------+-------------------------------------------------------------------------+----------------+-----+-----+\n",
      "|Cidade  |Produto    |Status_corrida|Request Time                 |Inicio_corrida               |Origem                                                                   |Hora_finalizada              |Destino                                                                  |Distancia_milhas|Preco|Moeda|\n",
      "+--------+-----------+--------------+-----------------------------+-----------------------------+-------------------------------------------------------------------------+-----------------------------+-------------------------------------------------------------------------+----------------+-----+-----+\n",
      "|Brasilia|UberX      |COMPLETED     |2021-01-30 19:05:47 +0000 UTC|2021-01-30 19:08:04 +0000 UTC|St. P Qnp 20 Conjunto K, 46 - Ceilândia, Brasília - DF, 72233-011, Brasil|2021-01-30 19:24:44 +0000 UTC|R. 37 Sul, 19 - Águas Claras, Brasília - DF, 71929-540, Brasil           |6.59            |14.08|BRL  |\n",
      "|Brasilia|UberX Promo|COMPLETED     |2021-03-11 16:07:51 +0000 UTC|2021-03-11 16:11:21 +0000 UTC|Alameda das Acácias, 2 - Águas Claras, Brasília - DF, 71920-540, Brasil  |2021-03-11 16:47:49 +0000 UTC|St. P Qnp 20 Conjunto K, 46 - Ceilândia, Brasília - DF, 72233-011, Brasil|6.28            |13.74|BRL  |\n",
      "+--------+-----------+--------------+-----------------------------+-----------------------------+-------------------------------------------------------------------------+-----------------------------+-------------------------------------------------------------------------+----------------+-----+-----+\n",
      "\n"
     ]
    }
   ],
   "source": [
    "df.filter(col('Cidade')==\"Brasilia\").orderBy(\"Request Time\").show(30, truncate=False)"
   ]
  },
  {
   "cell_type": "code",
   "execution_count": 13,
   "metadata": {},
   "outputs": [],
   "source": [
    "df_cancel = df.filter(col(\"Status_corrida\")!=\"COMPLETED\")\n"
   ]
  },
  {
   "cell_type": "code",
   "execution_count": 14,
   "metadata": {},
   "outputs": [
    {
     "name": "stdout",
     "output_type": "stream",
     "text": [
      "+--------------+-------+---------------+--------------------+--------------------+--------------------+--------------------+--------------------+----------------+-----+-----+\n",
      "|        Cidade|Produto| Status_corrida|        Request Time|      Inicio_corrida|              Origem|     Hora_finalizada|             Destino|Distancia_milhas|Preco|Moeda|\n",
      "+--------------+-------+---------------+--------------------+--------------------+--------------------+--------------------+--------------------+----------------+-----+-----+\n",
      "|     Sao Paulo|  UberX|       CANCELED|2022-02-09 12:50:...|1970-01-01 00:00:...|R. Leonilda, 383 ...|1970-01-01 00:00:...|Rua Teresópolis, ...|             0.0|  0.0|  BRL|\n",
      "|     Sao Paulo|  UberX|       CANCELED|2022-02-09 12:35:...|1970-01-01 00:00:...|Largo Santo Antôn...|1970-01-01 00:00:...|Rua das Maravilha...|             0.0|  0.0|  BRL|\n",
      "|     Sao Paulo|  UberX|       CANCELED|2021-07-24 16:58:...|1970-01-01 00:00:...|Rua Senador Filin...|1970-01-01 00:00:...|Rua Aldeia de San...|             0.0|  0.0|  BRL|\n",
      "|     Sao Paulo|  UberX|       CANCELED|2021-07-23 12:10:...|1970-01-01 00:00:...|Rua Recife, 213 -...|1970-01-01 00:00:...|Avenida Salim Far...|             0.0|  0.0|  BRL|\n",
      "|     Sao Paulo|  UberX|DRIVER_CANCELED|2021-03-20 13:48:...|1970-01-01 00:00:...|Av. Aricanduva, 5...|1970-01-01 00:00:...|Avenida Aricanduv...|             0.0|  5.0|  BRL|\n",
      "|     Sao Paulo|  UberX|       CANCELED|2019-09-26 00:52:...|2019-09-26 01:00:...|Rua Henrique de S...|1970-01-01 00:00:...|Pç. Nossa Senhora...|            0.03|  0.0|  BRL|\n",
      "|     Sao Paulo|    Bag|       CANCELED|2019-09-07 16:52:...|1970-01-01 00:00:...|Pte. Aricanduva, ...|1970-01-01 00:00:...|Avenida Condessa ...|             0.0|  0.0|  BRL|\n",
      "|     Sao Paulo|  UberX|       CANCELED|2019-05-23 08:17:...|1970-01-01 00:00:...|Rua Aracati, 275 ...|1970-01-01 00:00:...|Avenida Morvan Di...|             0.0|  0.0|  BRL|\n",
      "|     Sao Paulo|  UberX|DRIVER_CANCELED|2019-01-25 23:20:...|1970-01-01 00:00:...|Rua Eduardo de Sá...|1970-01-01 00:00:...|Avenida Cupecê, 3...|             0.0|  7.0|  BRL|\n",
      "|        Santos|  UberX|DRIVER_CANCELED|2019-01-04 19:30:...|1970-01-01 00:00:...|Avenida Ministro ...|1970-01-01 00:00:...|Av. Min. Marcos F...|             0.0|  0.0|  BRL|\n",
      "|     Sao Paulo|  UberX|       CANCELED|2018-11-17 19:05:...|1970-01-01 00:00:...|                NULL|1970-01-01 00:00:...|                NULL|             0.0|  0.0|  BRL|\n",
      "|     Sao Paulo|  UberX|       CANCELED|2018-09-09 19:06:...|1970-01-01 00:00:...|                NULL|1970-01-01 00:00:...|                NULL|             0.0|  0.0|  BRL|\n",
      "|Rio de Janeiro|  uberX|DRIVER_CANCELED|2018-05-21 00:32:...|1970-01-01 00:00:...|Rua Gomes Carneir...|1970-01-01 00:00:...|Rua Bulhões Carva...|             0.0|  0.0|  BRL|\n",
      "|Rio de Janeiro|  uberX|       CANCELED|2017-12-10 23:47:...|1970-01-01 00:00:...|Rua Raul Pompéia,...|1970-01-01 00:00:...|R. Francisco Sá, ...|             0.0|  0.0|  BRL|\n",
      "|Rio de Janeiro|  uberX|       CANCELED|2017-05-22 01:23:...|1970-01-01 00:00:...|Rua Prudente de M...|1970-01-01 00:00:...|Rua Antônio Parre...|             0.0|  7.0|  BRL|\n",
      "|     Sao Paulo|   NULL|    UNFULFILLED|2017-05-02 12:37:...|1970-01-01 00:00:...|                NULL|1970-01-01 00:00:...|                NULL|             0.0|  0.0| NULL|\n",
      "|Rio de Janeiro|  uberX|       CANCELED|2017-04-03 01:31:...|1970-01-01 00:00:...|Av. Atlântica, 34...|1970-01-01 00:00:...|Rua Bulhões Carva...|             0.0|  7.0|  BRL|\n",
      "|     Sao Paulo|   POOL|DRIVER_CANCELED|2017-03-17 21:07:...|1970-01-01 00:00:...|                NULL|1970-01-01 00:00:...|                NULL|             0.0|  4.0|  BRL|\n",
      "+--------------+-------+---------------+--------------------+--------------------+--------------------+--------------------+--------------------+----------------+-----+-----+\n",
      "\n"
     ]
    },
    {
     "data": {
      "text/plain": [
       "18"
      ]
     },
     "execution_count": 14,
     "metadata": {},
     "output_type": "execute_result"
    }
   ],
   "source": [
    "df_cancel.show()\n",
    "df_cancel.count()"
   ]
  },
  {
   "cell_type": "code",
   "execution_count": 15,
   "metadata": {},
   "outputs": [],
   "source": [
    "df = df.filter(col(\"Status_corrida\")==\"COMPLETED\")"
   ]
  },
  {
   "cell_type": "code",
   "execution_count": 16,
   "metadata": {},
   "outputs": [
    {
     "name": "stdout",
     "output_type": "stream",
     "text": [
      "root\n",
      " |-- Cidade: string (nullable = true)\n",
      " |-- Produto: string (nullable = true)\n",
      " |-- Status_corrida: string (nullable = true)\n",
      " |-- Request Time: string (nullable = true)\n",
      " |-- Inicio_corrida: string (nullable = true)\n",
      " |-- Origem: string (nullable = true)\n",
      " |-- Hora_finalizada: string (nullable = true)\n",
      " |-- Destino: string (nullable = true)\n",
      " |-- Distancia_milhas: double (nullable = true)\n",
      " |-- Preco: float (nullable = true)\n",
      " |-- Moeda: string (nullable = true)\n",
      "\n"
     ]
    }
   ],
   "source": [
    "df.printSchema()"
   ]
  },
  {
   "cell_type": "code",
   "execution_count": 17,
   "metadata": {},
   "outputs": [
    {
     "name": "stdout",
     "output_type": "stream",
     "text": [
      "+----------+\n",
      "|sum(Preco)|\n",
      "+----------+\n",
      "|  4,891.72|\n",
      "+----------+\n",
      "\n"
     ]
    }
   ],
   "source": [
    "gasto_total = df.agg({'Preco': 'sum'})\n",
    "gasto_total = gasto_total.withColumn(\"sum(Preco)\", format_number(round(col(\"sum(Preco)\"),2),2))\n",
    "gasto_total.show()"
   ]
  },
  {
   "cell_type": "code",
   "execution_count": 18,
   "metadata": {},
   "outputs": [
    {
     "name": "stdout",
     "output_type": "stream",
     "text": [
      "+----------+\n",
      "|max(Preco)|\n",
      "+----------+\n",
      "|     93.05|\n",
      "+----------+\n",
      "\n"
     ]
    }
   ],
   "source": [
    "df.agg({'Preco': 'max'}).show()"
   ]
  },
  {
   "cell_type": "code",
   "execution_count": 19,
   "metadata": {},
   "outputs": [
    {
     "name": "stdout",
     "output_type": "stream",
     "text": [
      "+---------+-------+--------------+-----------------------------+-----------------------------+---------------------------------------------------------------------------------------+-----------------------------+-----------------------------------------------------------------------------------+----------------+-----+-----+\n",
      "|Cidade   |Produto|Status_corrida|Request Time                 |Inicio_corrida               |Origem                                                                                 |Hora_finalizada              |Destino                                                                            |Distancia_milhas|Preco|Moeda|\n",
      "+---------+-------+--------------+-----------------------------+-----------------------------+---------------------------------------------------------------------------------------+-----------------------------+-----------------------------------------------------------------------------------+----------------+-----+-----+\n",
      "|Sao Paulo|UberX  |COMPLETED     |2018-09-09 17:05:09 +0000 UTC|2018-09-09 17:08:49 +0000 UTC|R. Lourenço Leite Penteado, 494a - Parque Sao Rafael, São Paulo - SP, 08311-170, Brasil|2018-09-09 18:08:09 +0000 UTC|Praça Comandante Linneu Gomes, 270 - Santo Amaro, São Paulo - SP, 04626-911, Brasil|22.59           |93.05|BRL  |\n",
      "+---------+-------+--------------+-----------------------------+-----------------------------+---------------------------------------------------------------------------------------+-----------------------------+-----------------------------------------------------------------------------------+----------------+-----+-----+\n",
      "\n"
     ]
    }
   ],
   "source": [
    "df.filter(col(\"Preco\")>93.04).show(truncate=False)"
   ]
  },
  {
   "cell_type": "code",
   "execution_count": 20,
   "metadata": {},
   "outputs": [
    {
     "name": "stdout",
     "output_type": "stream",
     "text": [
      "+--------------+-------+--------------+-----------------------------+-----------------------------+----------------------------------------------------------------------------------------------------+-----------------------------+------------------------------------------------------------------------------------------------------------+----------------+-----+-----+\n",
      "|Cidade        |Produto|Status_corrida|Request Time                 |Inicio_corrida               |Origem                                                                                              |Hora_finalizada              |Destino                                                                                                     |Distancia_milhas|Preco|Moeda|\n",
      "+--------------+-------+--------------+-----------------------------+-----------------------------+----------------------------------------------------------------------------------------------------+-----------------------------+------------------------------------------------------------------------------------------------------------+----------------+-----+-----+\n",
      "|Rio de Janeiro|uberX  |COMPLETED     |2018-03-12 00:33:53 +0000 UTC|2018-03-12 00:36:40 +0000 UTC|R. Antônio Parreiras, 71 - Ipanema, Rio de Janeiro - RJ, 22411-020, Brasil                          |2018-03-12 00:54:12 +0000 UTC|Rodoviária Novo Rio Av. Francisco Bicalho, No 01, 177 - Santo Cristo, Rio de Janeiro - RJ, 20220-250, Brasil|0.01            |7.75 |BRL  |\n",
      "|Sao Paulo     |UberX  |COMPLETED     |2023-01-03 17:21:53 +0000 UTC|2023-01-03 17:23:57 +0000 UTC|Av. São Miguel, 2409 - Vila Marieta - São Paulo - SP, 03619-100                                     |2023-01-03 17:29:02 +0000 UTC|Rua Manuel Leiroz, 210 - Cangaiba - São Paulo - SP, 03735-180                                               |0.93            |8.97 |BRL  |\n",
      "|Sao Paulo     |UberX  |COMPLETED     |2022-12-06 23:14:43 +0000 UTC|2022-12-06 23:18:27 +0000 UTC|Av. São Miguel, 2409 - Vila Marieta - São Paulo - SP, 03619-100                                     |2022-12-06 23:23:26 +0000 UTC|Rua Manuel Leiroz, 210 - Cangaiba - São Paulo - SP, 03735-180                                               |0.93            |17.92|BRL  |\n",
      "|Sao Paulo     |UberX  |COMPLETED     |2019-01-28 11:12:17 +0000 UTC|2019-01-28 11:19:25 +0000 UTC|Rua Árvore da Cera, 1 - Vila Curuçá Velha, São Paulo - SP, 08032-270, Brasil                        |2019-01-28 11:23:55 +0000 UTC|R. Jabiru, 1128 - Parque Guaianazes, São Paulo - SP, 84314-430, Brasil                                      |1.03            |7.87 |BRL  |\n",
      "|Sao Paulo     |UberX  |COMPLETED     |2022-02-09 12:58:20 +0000 UTC|2022-02-09 13:06:00 +0000 UTC|Av. Nestor de Barros, 700 - Jardim Ana Maria, Santo André - SP, 09260-520, Brasil                   |2022-02-09 13:10:00 +0000 UTC|R. Atabasca, 877 - Jardim Santo Alberto, Santo André - SP, 09260-430, Brasil                                |1.05            |9.91 |BRL  |\n",
      "|Sao Paulo     |UberX  |COMPLETED     |2020-05-07 22:17:32 +0000 UTC|2020-05-07 22:22:45 +0000 UTC|R. Frei Germano, 124 - Penha de França, São Paulo - SP, 03604-030, Brasil                           |2020-05-07 22:28:11 +0000 UTC|Av. Conde de Frontin, S/N - Penha de Franca - São Paulo - SP, 03644-070                                     |1.06            |7.84 |BRL  |\n",
      "|Sao Paulo     |UberX  |COMPLETED     |2021-05-25 01:16:22 +0000 UTC|2021-05-25 01:20:40 +0000 UTC|Rua Frei Germano, 74 - Penha - São Paulo - SP, 03604-030                                            |2021-05-25 01:26:00 +0000 UTC|Penha de França, São Paulo - SP, 03638, Brasil                                                              |1.06            |7.15 |BRL  |\n",
      "|Sao Paulo     |UberX  |COMPLETED     |2023-02-13 23:20:18 +0000 UTC|2023-02-13 23:24:36 +0000 UTC|Av. São Miguel, 2409 - Vila Marieta - São Paulo - SP, 03619-100                                     |2023-02-13 23:29:20 +0000 UTC|Rua Manuel Leiroz, 210 - Cangaiba - São Paulo - SP, 03735-180                                               |1.07            |8.96 |BRL  |\n",
      "|Sao Paulo     |UberX  |COMPLETED     |2019-01-28 13:09:28 +0000 UTC|2019-01-28 13:13:05 +0000 UTC|Av. Coroa de Frade, 21 - Jardim Ubirajara (Zona Leste), São Paulo - SP, 08245-470, Brasil           |2019-01-28 13:18:30 +0000 UTC|Av. Nordestina, 5229 - Parque Guaianazes, São Paulo - SP, 08431-410, Brasil                                 |1.08            |7.9  |BRL  |\n",
      "|Sao Paulo     |UberX  |COMPLETED     |2021-07-17 21:58:29 +0000 UTC|2021-07-17 22:04:38 +0000 UTC|Av. Nordestina, 3037 - Guaianases, São Paulo - SP, 08032-000, Brasil                                |2021-07-17 22:11:06 +0000 UTC|R. Cambacica, 166 - Vila Curuçá Velha, São Paulo - SP, 08032-440, Brasil                                    |1.19            |11.18|BRL  |\n",
      "|Sao Paulo     |UberX  |COMPLETED     |2019-01-28 12:40:47 +0000 UTC|2019-01-28 12:43:17 +0000 UTC|R. Aldeia dos Machacalis, 213 - Jardim Etelvina, São Paulo - SP, 08430-430, Brasil                  |2019-01-28 12:49:48 +0000 UTC|R. Santa Etelvina, 833 - Jardim Etelvina, São Paulo - SP, 08430-020, Brasil                                 |1.22            |7.87 |BRL  |\n",
      "|Sao Paulo     |UberX  |COMPLETED     |2021-07-23 14:41:50 +0000 UTC|2021-07-23 14:47:01 +0000 UTC|Av. Gabriela Mistral, 1176 - Penha de França, São Paulo - SP, 03701-001, Brasil                     |2021-07-23 14:54:48 +0000 UTC|R. Frei Germano, 83 - Penha de França, São Paulo - SP, 03604-030, Brasil                                    |1.35            |7.6  |BRL  |\n",
      "|Sao Paulo     |UberX  |COMPLETED     |2021-07-23 12:31:58 +0000 UTC|2021-07-23 12:36:09 +0000 UTC|R. Frei Germano, 83 - Penha de França, São Paulo - SP, 03604-030, Brasil                            |2021-07-23 12:43:16 +0000 UTC|Av. Gabriela Mistral, 1168 - Penha de França, São Paulo - SP, 03701-001, Brasil                             |1.49            |7.71 |BRL  |\n",
      "|Sao Paulo     |UberX  |COMPLETED     |2019-05-08 17:33:00 +0000 UTC|2019-05-08 17:34:04 +0000 UTC|R. Dr. João Ribeiro, 150 - Penha de França, São Paulo - SP, 12929-471, Brasil                       |2019-05-08 17:41:55 +0000 UTC|R. Jorge Augusto, 275 - Vila Centenario, São Paulo - SP, 03645-000, Brasil                                  |1.52            |7.83 |BRL  |\n",
      "|Sao Paulo     |UberX  |COMPLETED     |2021-07-24 17:03:23 +0000 UTC|2021-07-24 17:05:45 +0000 UTC|Av. Sapopemba, 3790 - São Mateus, São Paulo - SP, 03989-000, Brasil                                 |2021-07-24 17:12:17 +0000 UTC|Rua Euvaldo Loureiro Villaboim, 80 - São Rafael, São Paulo - SP, 08310-170, Brasil                          |1.55            |10.95|BRL  |\n",
      "|Sao Paulo     |UberX  |COMPLETED     |2019-12-18 12:32:52 +0000 UTC|2019-12-18 12:35:54 +0000 UTC|Praça Nossa Sra. da Penha, 71 - Penha de França, São Paulo - SP, 12929-471, Brasil                  |2019-12-18 12:44:35 +0000 UTC|R. Demini, 421 - Penha de França, São Paulo - SP, 03641-040, Brasil                                         |1.59            |7.63 |BRL  |\n",
      "|Rio de Janeiro|uberX  |COMPLETED     |2017-04-15 23:56:58 +0000 UTC|2017-04-16 00:00:31 +0000 UTC|R. Bolívar, 75 - Copacabana - Rio de Janeiro - RJ, 22061-020                                        |2017-04-16 00:09:53 +0000 UTC|Rua Barão da Torre, 145 - Ipanema - Rio de Janeiro - RJ, 22411-001                                          |1.61            |7.75 |BRL  |\n",
      "|Sao Paulo     |Bag    |COMPLETED     |2019-08-13 16:24:39 +0000 UTC|2019-08-13 16:39:44 +0000 UTC|Av. Condessa Elizabeth de Robiano, 5789 - Jardim America da Penha, São Paulo - SP, 03707-015, Brasil|2019-08-13 16:50:28 +0000 UTC|Condomínio Edifício Olga Charif - R. Frei Germano, 95 - Penha de França, São Paulo - SP, 03604-030, Brasil  |1.62            |14.32|BRL  |\n",
      "|Sao Paulo     |UberX  |COMPLETED     |2019-09-07 18:17:41 +0000 UTC|2019-09-07 18:24:36 +0000 UTC|R. Ribeiro de Lima, 240 - Bom Retiro, São Paulo - SP, 01122-000, Brasil                             |2019-09-07 18:33:32 +0000 UTC|Bom Retiro, São Paulo - SP, 01131-010, Brasil                                                               |1.65            |7.0  |BRL  |\n",
      "|Sao Paulo     |UberX  |COMPLETED     |2021-05-03 14:56:56 +0000 UTC|2021-05-03 15:00:47 +0000 UTC|R. Comendador Cantinho, 200 - Penha de França, São Paulo - SP, 03603-020, Brasil                    |2021-05-03 15:07:57 +0000 UTC|Av. Condessa Elizabeth de Robiano, 5500 - Jardim Jaú (Zona Leste), São Paulo - SP, 03707-015, Brasil        |1.66            |8.05 |BRL  |\n",
      "+--------------+-------+--------------+-----------------------------+-----------------------------+----------------------------------------------------------------------------------------------------+-----------------------------+------------------------------------------------------------------------------------------------------------+----------------+-----+-----+\n",
      "only showing top 20 rows\n",
      "\n"
     ]
    }
   ],
   "source": [
    "df.orderBy(\"Distancia_milhas\").show(truncate=False)"
   ]
  },
  {
   "cell_type": "code",
   "execution_count": 21,
   "metadata": {},
   "outputs": [
    {
     "name": "stdout",
     "output_type": "stream",
     "text": [
      "+---------------------+\n",
      "|max(Distancia_milhas)|\n",
      "+---------------------+\n",
      "|                 31.8|\n",
      "+---------------------+\n",
      "\n"
     ]
    }
   ],
   "source": [
    "df.agg({'Distancia_milhas': 'max'}).show()"
   ]
  },
  {
   "cell_type": "code",
   "execution_count": 22,
   "metadata": {},
   "outputs": [
    {
     "name": "stdout",
     "output_type": "stream",
     "text": [
      "+---------+-------+--------------+--------------------+--------------------+--------------------+--------------------+--------------------+----------------+-----+-----+\n",
      "|   Cidade|Produto|Status_corrida|        Request Time|      Inicio_corrida|              Origem|     Hora_finalizada|             Destino|Distancia_milhas|Preco|Moeda|\n",
      "+---------+-------+--------------+--------------------+--------------------+--------------------+--------------------+--------------------+----------------+-----+-----+\n",
      "|Sao Paulo|  UberX|     COMPLETED|2018-11-16 17:47:...|2018-11-16 17:49:...|Praça Comandante ...|2018-11-16 18:54:...|R. Lourenço Leite...|            31.8|83.87|  BRL|\n",
      "+---------+-------+--------------+--------------------+--------------------+--------------------+--------------------+--------------------+----------------+-----+-----+\n",
      "\n"
     ]
    }
   ],
   "source": [
    "df.filter(col('Distancia_milhas')>31.7).show()"
   ]
  },
  {
   "cell_type": "code",
   "execution_count": 23,
   "metadata": {},
   "outputs": [
    {
     "name": "stdout",
     "output_type": "stream",
     "text": [
      "+---------------------+\n",
      "|min(Distancia_milhas)|\n",
      "+---------------------+\n",
      "|                 0.01|\n",
      "+---------------------+\n",
      "\n"
     ]
    }
   ],
   "source": [
    "df.agg({'Distancia_milhas': 'min'}).show()"
   ]
  },
  {
   "cell_type": "code",
   "execution_count": 24,
   "metadata": {},
   "outputs": [
    {
     "name": "stdout",
     "output_type": "stream",
     "text": [
      "+--------------+-------+--------------+--------------------+--------------------+--------------------+--------------------+--------------------+----------------+-----+-----+\n",
      "|        Cidade|Produto|Status_corrida|        Request Time|      Inicio_corrida|              Origem|     Hora_finalizada|             Destino|Distancia_milhas|Preco|Moeda|\n",
      "+--------------+-------+--------------+--------------------+--------------------+--------------------+--------------------+--------------------+----------------+-----+-----+\n",
      "|Rio de Janeiro|  uberX|     COMPLETED|2018-03-12 00:33:...|2018-03-12 00:36:...|R. Antônio Parrei...|2018-03-12 00:54:...|Rodoviária Novo R...|            0.01| 7.75|  BRL|\n",
      "+--------------+-------+--------------+--------------------+--------------------+--------------------+--------------------+--------------------+----------------+-----+-----+\n",
      "\n"
     ]
    }
   ],
   "source": [
    "df.filter(col('Distancia_milhas')<0.02).show()"
   ]
  },
  {
   "cell_type": "code",
   "execution_count": 25,
   "metadata": {},
   "outputs": [],
   "source": [
    "ano = udf(lambda data: data.split('-')[0])"
   ]
  },
  {
   "cell_type": "code",
   "execution_count": 26,
   "metadata": {},
   "outputs": [],
   "source": [
    "df = df.withColumn(\"Ano\", ano('Request Time'))"
   ]
  },
  {
   "cell_type": "code",
   "execution_count": 27,
   "metadata": {},
   "outputs": [
    {
     "name": "stdout",
     "output_type": "stream",
     "text": [
      "+---------+-------+--------------+--------------------+--------------------+--------------------+--------------------+--------------------+----------------+-----+-----+----+\n",
      "|   Cidade|Produto|Status_corrida|        Request Time|      Inicio_corrida|              Origem|     Hora_finalizada|             Destino|Distancia_milhas|Preco|Moeda| Ano|\n",
      "+---------+-------+--------------+--------------------+--------------------+--------------------+--------------------+--------------------+----------------+-----+-----+----+\n",
      "|Sao Paulo|  UberX|     COMPLETED|2023-10-03 14:12:...|2023-10-03 14:22:...|R. Dr. José Guilh...|2023-10-03 14:33:...|Rua Cambacica, 33...|            2.53|13.12|  BRL|2023|\n",
      "|Sao Paulo|  UberX|     COMPLETED|2023-09-28 17:11:...|2023-09-28 17:19:...|Rua Fernando Falc...|2023-09-28 17:33:...|Av. Alcântara Mac...|            2.66|19.97|  BRL|2023|\n",
      "|Sao Paulo|  UberX|     COMPLETED|2023-09-28 16:32:...|2023-09-28 16:39:...|Av. Alcântara Mac...|2023-09-28 16:49:...|Rua Fernando Falc...|            1.87|14.94|  BRL|2023|\n",
      "|Sao Paulo|  UberX|     COMPLETED|2023-09-10 22:10:...|2023-09-10 22:24:...|Rua Manoel Celest...|2023-09-10 22:48:...|Rua Manuel Leiroz...|            6.25|24.93|  BRL|2023|\n",
      "|Sao Paulo|  UberX|     COMPLETED|2023-08-03 17:26:...|2023-08-03 17:29:...|Rua Fernando Falc...|2023-08-03 17:44:...|Av. Alcântara Mac...|            2.69|19.99|  BRL|2023|\n",
      "|Sao Paulo|  UberX|     COMPLETED|2023-08-03 16:15:...|2023-08-03 16:18:...|Av. Alcântara Mac...|2023-08-03 16:27:...|Rua Fernando Falc...|            1.85|14.97|  BRL|2023|\n",
      "|Sao Paulo|  UberX|     COMPLETED|2023-07-22 16:01:...|2023-07-22 16:13:...|Avenida Nordestin...|2023-07-22 16:51:...|Rua Manuel Leiroz...|            9.44|29.98|  BRL|2023|\n",
      "|Sao Paulo|  UberX|     COMPLETED|2023-07-22 11:40:...|2023-07-22 11:44:...|Rua Manuel Leiroz...|2023-07-22 12:16:...|Av. Nordestina, 4...|            9.45|29.98|  BRL|2023|\n",
      "|Sao Paulo|  UberX|     COMPLETED|2023-06-03 17:45:...|2023-06-03 17:50:...|Rua Manuel Leiroz...|2023-06-03 18:04:...|R. Dr. João Ribei...|            2.64| 19.9|  BRL|2023|\n",
      "|Sao Paulo|  UberX|     COMPLETED|2023-05-02 13:52:...|2023-05-02 13:54:...|Acesso Estacionam...|2023-05-02 14:20:...|Rua Manuel Leiroz...|            5.45|22.94|  BRL|2023|\n",
      "|Sao Paulo|  UberX|     COMPLETED|2023-05-02 13:00:...|2023-05-02 13:08:...|Rua Manuel Leiroz...|2023-05-02 13:37:...|Shopping Aricandu...|            6.21|24.93|  BRL|2023|\n",
      "|Sao Paulo|  UberX|     COMPLETED|2023-04-13 15:44:...|2023-04-13 15:52:...|R. Padre Adelino,...|2023-04-13 16:16:...|Rua Manuel Leiroz...|            6.84|31.96|  BRL|2023|\n",
      "|Sao Paulo|  UberX|     COMPLETED|2023-04-08 22:23:...|2023-04-08 22:37:...|Av. Cassandoca, 5...|2023-04-08 23:03:...|Rua Manuel Leiroz...|            7.87|32.99|  BRL|2023|\n",
      "|Sao Paulo|  UberX|     COMPLETED|2023-04-08 18:24:...|2023-04-08 18:29:...|Rua Manuel Leiroz...|2023-04-08 18:53:...|Rua Doutor Freire...|             8.0|25.09|  BRL|2023|\n",
      "|Sao Paulo|  UberX|     COMPLETED|2023-04-08 01:40:...|2023-04-08 01:49:...|Rua Eduardo Vicen...|2023-04-08 02:17:...|Rua Manuel Leiroz...|           11.88|44.99|  BRL|2023|\n",
      "|Sao Paulo|  UberX|     COMPLETED|2023-04-07 16:37:...|2023-04-07 16:56:...|Rua Manuel Leiroz...|2023-04-07 17:26:...|Rua Otávio Lopes ...|           10.43|29.92|  BRL|2023|\n",
      "|Sao Paulo|  UberX|     COMPLETED|2023-04-05 21:47:...|2023-04-05 21:52:...|Estação Vila Matilde|2023-04-05 22:05:...|Rua Manuel Leiroz...|            2.08|24.91|  BRL|2023|\n",
      "|Sao Paulo|  UberX|     COMPLETED|2023-04-03 03:49:...|2023-04-03 03:55:...|Rua Otávio Lopes ...|2023-04-03 04:19:...|Rua Manuel Leiroz...|           11.79|44.92|  BRL|2023|\n",
      "|Sao Paulo|  UberX|     COMPLETED|2023-04-02 14:42:...|2023-04-02 14:44:...|Rua Manuel Leiroz...|2023-04-02 15:25:...|Rua Otávio Lopes ...|           10.03|29.94|  BRL|2023|\n",
      "|Sao Paulo|  UberX|     COMPLETED|2023-03-25 21:12:...|2023-03-25 21:16:...|Avenida Miruna, 5...|2023-03-25 21:59:...|Rua Manuel Leiroz...|           16.29|49.97|  BRL|2023|\n",
      "+---------+-------+--------------+--------------------+--------------------+--------------------+--------------------+--------------------+----------------+-----+-----+----+\n",
      "only showing top 20 rows\n",
      "\n"
     ]
    }
   ],
   "source": [
    "df.show()"
   ]
  },
  {
   "cell_type": "code",
   "execution_count": 109,
   "metadata": {},
   "outputs": [],
   "source": [
    "ano_viagens = df.groupBy(\"Ano\").agg(count(\"*\").alias(\"Viagens_por_ano\")).orderBy(\"Ano\")"
   ]
  },
  {
   "cell_type": "code",
   "execution_count": 110,
   "metadata": {},
   "outputs": [],
   "source": [
    "ano_viagens = ano_viagens.toPandas()"
   ]
  },
  {
   "cell_type": "code",
   "execution_count": 112,
   "metadata": {},
   "outputs": [
    {
     "data": {
      "text/html": [
       "<div>\n",
       "<style scoped>\n",
       "    .dataframe tbody tr th:only-of-type {\n",
       "        vertical-align: middle;\n",
       "    }\n",
       "\n",
       "    .dataframe tbody tr th {\n",
       "        vertical-align: top;\n",
       "    }\n",
       "\n",
       "    .dataframe thead th {\n",
       "        text-align: right;\n",
       "    }\n",
       "</style>\n",
       "<table border=\"1\" class=\"dataframe\">\n",
       "  <thead>\n",
       "    <tr style=\"text-align: right;\">\n",
       "      <th></th>\n",
       "      <th>Ano</th>\n",
       "      <th>Viagens_por_ano</th>\n",
       "    </tr>\n",
       "  </thead>\n",
       "  <tbody>\n",
       "    <tr>\n",
       "      <th>0</th>\n",
       "      <td>2017</td>\n",
       "      <td>22</td>\n",
       "    </tr>\n",
       "    <tr>\n",
       "      <th>1</th>\n",
       "      <td>2018</td>\n",
       "      <td>35</td>\n",
       "    </tr>\n",
       "    <tr>\n",
       "      <th>2</th>\n",
       "      <td>2019</td>\n",
       "      <td>48</td>\n",
       "    </tr>\n",
       "    <tr>\n",
       "      <th>3</th>\n",
       "      <td>2020</td>\n",
       "      <td>16</td>\n",
       "    </tr>\n",
       "    <tr>\n",
       "      <th>4</th>\n",
       "      <td>2021</td>\n",
       "      <td>25</td>\n",
       "    </tr>\n",
       "    <tr>\n",
       "      <th>5</th>\n",
       "      <td>2022</td>\n",
       "      <td>19</td>\n",
       "    </tr>\n",
       "    <tr>\n",
       "      <th>6</th>\n",
       "      <td>2023</td>\n",
       "      <td>29</td>\n",
       "    </tr>\n",
       "  </tbody>\n",
       "</table>\n",
       "</div>"
      ],
      "text/plain": [
       "    Ano  Viagens_por_ano\n",
       "0  2017               22\n",
       "1  2018               35\n",
       "2  2019               48\n",
       "3  2020               16\n",
       "4  2021               25\n",
       "5  2022               19\n",
       "6  2023               29"
      ]
     },
     "metadata": {},
     "output_type": "display_data"
    }
   ],
   "source": [
    "display(ano_viagens)"
   ]
  },
  {
   "cell_type": "code",
   "execution_count": 113,
   "metadata": {},
   "outputs": [
    {
     "data": {
      "image/png": "[encoded data removed]",
      "text/plain": [
       "<Figure size 800x500 with 1 Axes>"
      ]
     },
     "metadata": {},
     "output_type": "display_data"
    }
   ],
   "source": [
    "fig = ano_viagens[[\"Viagens_por_ano\"]].plot(figsize=(8,5), kind='bar')\n",
    "fig.set_xticklabels(ano_viagens[\"Ano\"])\n",
    "\n",
    "for i, v in enumerate(ano_viagens[\"Viagens_por_ano\"]):\n",
    "    plt.annotate(str(v), (i, v), ha='center', va='bottom')\n",
    "\n",
    "\n",
    "plt.show()"
   ]
  },
  {
   "cell_type": "code",
   "execution_count": 103,
   "metadata": {},
   "outputs": [
    {
     "name": "stdout",
     "output_type": "stream",
     "text": [
      "root\n",
      " |-- Ano: string (nullable = true)\n",
      " |-- Valor_anual: double (nullable = true)\n",
      "\n"
     ]
    },
    {
     "name": "stdout",
     "output_type": "stream",
     "text": [
      "+----+------------------+\n",
      "| Ano|       Valor_anual|\n",
      "+----+------------------+\n",
      "|2017| 544.3199977874756|\n",
      "|2018|1473.9299983978271|\n",
      "|2019| 764.6699994802475|\n",
      "|2020|290.46999979019165|\n",
      "|2021| 349.5599970817566|\n",
      "|2022| 591.9800024032593|\n",
      "|2023| 876.7900037765503|\n",
      "+----+------------------+\n",
      "\n"
     ]
    }
   ],
   "source": [
    "preco_viagens = df.groupBy(\"Ano\").agg(sum(\"preco\").alias(\"Valor_anual\")).orderBy(\"Ano\")\n",
    "preco_viagens.printSchema()\n",
    "preco_viagens.show()\n"
   ]
  },
  {
   "cell_type": "code",
   "execution_count": 104,
   "metadata": {},
   "outputs": [],
   "source": [
    "preco_viagens = preco_viagens.toPandas()"
   ]
  },
  {
   "cell_type": "code",
   "execution_count": 105,
   "metadata": {},
   "outputs": [
    {
     "data": {
      "text/html": [
       "<div>\n",
       "<style scoped>\n",
       "    .dataframe tbody tr th:only-of-type {\n",
       "        vertical-align: middle;\n",
       "    }\n",
       "\n",
       "    .dataframe tbody tr th {\n",
       "        vertical-align: top;\n",
       "    }\n",
       "\n",
       "    .dataframe thead th {\n",
       "        text-align: right;\n",
       "    }\n",
       "</style>\n",
       "<table border=\"1\" class=\"dataframe\">\n",
       "  <thead>\n",
       "    <tr style=\"text-align: right;\">\n",
       "      <th></th>\n",
       "      <th>Ano</th>\n",
       "      <th>Valor_anual</th>\n",
       "    </tr>\n",
       "  </thead>\n",
       "  <tbody>\n",
       "    <tr>\n",
       "      <th>0</th>\n",
       "      <td>2017</td>\n",
       "      <td>544.32</td>\n",
       "    </tr>\n",
       "    <tr>\n",
       "      <th>1</th>\n",
       "      <td>2018</td>\n",
       "      <td>1473.93</td>\n",
       "    </tr>\n",
       "    <tr>\n",
       "      <th>2</th>\n",
       "      <td>2019</td>\n",
       "      <td>764.67</td>\n",
       "    </tr>\n",
       "    <tr>\n",
       "      <th>3</th>\n",
       "      <td>2020</td>\n",
       "      <td>290.47</td>\n",
       "    </tr>\n",
       "    <tr>\n",
       "      <th>4</th>\n",
       "      <td>2021</td>\n",
       "      <td>349.56</td>\n",
       "    </tr>\n",
       "    <tr>\n",
       "      <th>5</th>\n",
       "      <td>2022</td>\n",
       "      <td>591.98</td>\n",
       "    </tr>\n",
       "    <tr>\n",
       "      <th>6</th>\n",
       "      <td>2023</td>\n",
       "      <td>876.79</td>\n",
       "    </tr>\n",
       "  </tbody>\n",
       "</table>\n",
       "</div>"
      ],
      "text/plain": [
       "    Ano  Valor_anual\n",
       "0  2017       544.32\n",
       "1  2018      1473.93\n",
       "2  2019       764.67\n",
       "3  2020       290.47\n",
       "4  2021       349.56\n",
       "5  2022       591.98\n",
       "6  2023       876.79"
      ]
     },
     "metadata": {},
     "output_type": "display_data"
    }
   ],
   "source": [
    "preco_viagens[\"Valor_anual\"] = preco_viagens[\"Valor_anual\"].astype(float)\n",
    "preco_viagens[\"Valor_anual\"] = preco_viagens[\"Valor_anual\"].round(2)\n",
    "\n",
    "display(preco_viagens)"
   ]
  },
  {
   "cell_type": "code",
   "execution_count": 106,
   "metadata": {},
   "outputs": [
    {
     "data": {
      "image/png": "[encoded data removed]",
      "text/plain": [
       "<Figure size 800x500 with 1 Axes>"
      ]
     },
     "metadata": {},
     "output_type": "display_data"
    }
   ],
   "source": [
    "fig2 = preco_viagens[[\"Valor_anual\"]].plot(figsize=(8,5), kind='bar')\n",
    "fig2.set_xticklabels(preco_viagens[\"Ano\"])\n",
    "\n",
    "for i, v in enumerate(preco_viagens[\"Valor_anual\"]):\n",
    "    plt.annotate(str(v), (i, v), ha='center', va='bottom')\n",
    "\n",
    "\n",
    "plt.show()"
   ]
  }
 ],
 "metadata": {
  "kernelspec": {
   "display_name": "Python 3",
   "language": "python",
   "name": "python3"
  },
  "language_info": {
   "codemirror_mode": {
    "name": "ipython",
    "version": 3
   },
   "file_extension": ".py",
   "mimetype": "text/x-python",
   "name": "python",
   "nbconvert_exporter": "python",
   "pygments_lexer": "ipython3",
   "version": "3.11.6"
  }
 },
 "nbformat": 4,
 "nbformat_minor": 2
}
