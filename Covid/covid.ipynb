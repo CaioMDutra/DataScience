{
 "cells": [
  {
   "cell_type": "code",
   "execution_count": 1,
   "metadata": {},
   "outputs": [],
   "source": [
    "from pyspark.sql import SparkSession\n",
    "from pyspark.sql.types import *\n",
    "from pyspark.sql.functions import *\n",
    "from pyspark.sql.window import Window"
   ]
  },
  {
   "cell_type": "code",
   "execution_count": 2,
   "metadata": {},
   "outputs": [],
   "source": [
    "spark = (\n",
    "      SparkSession.builder \\\n",
    "      .master(\"local\") \\\n",
    "      .appName(\"Spark\") \\\n",
    "      .getOrCreate()\n",
    " )"
   ]
  },
  {
   "cell_type": "code",
   "execution_count": 3,
   "metadata": {},
   "outputs": [],
   "source": [
    "df = spark.read.csv('covid.csv', header=True, inferSchema=True)"
   ]
  },
  {
   "cell_type": "code",
   "execution_count": 7,
   "metadata": {},
   "outputs": [
    {
     "data": {
      "text/plain": [
       "['Direction',\n",
       " 'Year',\n",
       " 'Date',\n",
       " 'Weekday',\n",
       " 'Country',\n",
       " 'Commodity',\n",
       " 'Transport_Mode',\n",
       " 'Measure',\n",
       " 'Value',\n",
       " 'Cumulative']"
      ]
     },
     "execution_count": 7,
     "metadata": {},
     "output_type": "execute_result"
    }
   ],
   "source": [
    "df.columns"
   ]
  },
  {
   "cell_type": "code",
   "execution_count": 8,
   "metadata": {},
   "outputs": [
    {
     "name": "stdout",
     "output_type": "stream",
     "text": [
      "Direction 0\n",
      "Year 0\n",
      "Date 0\n",
      "Weekday 0\n",
      "Country 0\n",
      "Commodity 0\n",
      "Transport_Mode 0\n",
      "Measure 0\n",
      "Value 0\n",
      "Cumulative 0\n"
     ]
    }
   ],
   "source": [
    "for coluna in df.columns:\n",
    "    print(coluna, df.filter(df[coluna].isNull()).count())"
   ]
  },
  {
   "cell_type": "code",
   "execution_count": 22,
   "metadata": {},
   "outputs": [],
   "source": [
    "df = df.filter((col('Country')!= 'Total (excluding China)'))"
   ]
  },
  {
   "cell_type": "code",
   "execution_count": 25,
   "metadata": {},
   "outputs": [
    {
     "name": "stdout",
     "output_type": "stream",
     "text": [
      "+---------+----+----------+---------+-------+---------+--------------+-------+--------+----------+\n",
      "|Direction|Year|      Date|  Weekday|Country|Commodity|Transport_Mode|Measure|   Value|Cumulative|\n",
      "+---------+----+----------+---------+-------+---------+--------------+-------+--------+----------+\n",
      "|  Exports|2015|01/01/2015| Thursday|  China|      All|           All|      $|20000000|  20000000|\n",
      "|  Exports|2015|02/01/2015|   Friday|  China|      All|           All|      $|20000000|  40000000|\n",
      "|  Exports|2015|03/01/2015| Saturday|  China|      All|           All|      $|11000000|  51000000|\n",
      "|  Exports|2015|04/01/2015|   Sunday|  China|      All|           All|      $| 8000000|  59000000|\n",
      "|  Exports|2015|05/01/2015|   Monday|  China|      All|           All|      $|16000000|  76000000|\n",
      "|  Exports|2015|06/01/2015|  Tuesday|  China|      All|           All|      $| 6000000|  81000000|\n",
      "|  Exports|2015|07/01/2015|Wednesday|  China|      All|           All|      $| 5000000|  87000000|\n",
      "|  Exports|2015|08/01/2015| Thursday|  China|      All|           All|      $|19000000| 105000000|\n",
      "|  Exports|2015|09/01/2015|   Friday|  China|      All|           All|      $|31000000| 136000000|\n",
      "|  Exports|2015|10/01/2015| Saturday|  China|      All|           All|      $|15000000| 152000000|\n",
      "|  Exports|2015|11/01/2015|   Sunday|  China|      All|           All|      $|18000000| 169000000|\n",
      "|  Exports|2015|12/01/2015|   Monday|  China|      All|           All|      $|24000000| 193000000|\n",
      "|  Exports|2015|13/01/2015|  Tuesday|  China|      All|           All|      $|14000000| 207000000|\n",
      "|  Exports|2015|14/01/2015|Wednesday|  China|      All|           All|      $|14000000| 221000000|\n",
      "|  Exports|2015|15/01/2015| Thursday|  China|      All|           All|      $|17000000| 238000000|\n",
      "|  Exports|2015|16/01/2015|   Friday|  China|      All|           All|      $|40000000| 278000000|\n",
      "|  Exports|2015|17/01/2015| Saturday|  China|      All|           All|      $|23000000| 301000000|\n",
      "|  Exports|2015|18/01/2015|   Sunday|  China|      All|           All|      $|13000000| 313000000|\n",
      "|  Exports|2015|19/01/2015|   Monday|  China|      All|           All|      $|36000000| 349000000|\n",
      "|  Exports|2015|20/01/2015|  Tuesday|  China|      All|           All|      $|14000000| 364000000|\n",
      "+---------+----+----------+---------+-------+---------+--------------+-------+--------+----------+\n",
      "only showing top 20 rows\n",
      "\n"
     ]
    }
   ],
   "source": [
    "df.show()"
   ]
  }
 ],
 "metadata": {
  "kernelspec": {
   "display_name": "Python 3",
   "language": "python",
   "name": "python3"
  },
  "language_info": {
   "codemirror_mode": {
    "name": "ipython",
    "version": 3
   },
   "file_extension": ".py",
   "mimetype": "text/x-python",
   "name": "python",
   "nbconvert_exporter": "python",
   "pygments_lexer": "ipython3",
   "version": "3.11.4"
  },
  "orig_nbformat": 4
 },
 "nbformat": 4,
 "nbformat_minor": 2
}
