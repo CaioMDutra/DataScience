{
 "cells": [
  {
   "cell_type": "code",
   "execution_count": 4,
   "metadata": {},
   "outputs": [],
   "source": [
    "from pyspark.sql import SparkSession\n",
    "from pyspark.sql.types import *\n",
    "from pyspark.sql.functions import *\n",
    "from pyspark.sql.window import Window"
   ]
  },
  {
   "cell_type": "code",
   "execution_count": 5,
   "metadata": {},
   "outputs": [],
   "source": [
    "spark = (\n",
    "      SparkSession.builder \\\n",
    "      .master(\"local\") \\\n",
    "      .appName(\"Spark\") \\\n",
    "      .getOrCreate()\n",
    " )"
   ]
  },
  {
   "cell_type": "code",
   "execution_count": 6,
   "metadata": {},
   "outputs": [],
   "source": [
    "df = spark.read.csv('movies.csv', header=True, inferSchema=True)\n",
    "rating = spark.read.csv('ratings.csv', header=True, inferSchema=True)"
   ]
  },
  {
   "cell_type": "code",
   "execution_count": 63,
   "metadata": {},
   "outputs": [
    {
     "data": {
      "text/plain": [
       "userId       0\n",
       "movieId      0\n",
       "rating       0\n",
       "timestamp    0\n",
       "dtype: int64"
      ]
     },
     "execution_count": 63,
     "metadata": {},
     "output_type": "execute_result"
    }
   ],
   "source": [
    "rating.toPandas().isna().sum()"
   ]
  },
  {
   "cell_type": "code",
   "execution_count": 80,
   "metadata": {},
   "outputs": [
    {
     "data": {
      "text/plain": [
       "['movieId', 'title', 'genres', 'userId', 'rating', 'timestamp']"
      ]
     },
     "execution_count": 80,
     "metadata": {},
     "output_type": "execute_result"
    }
   ],
   "source": [
    "df.columns"
   ]
  },
  {
   "cell_type": "code",
   "execution_count": 7,
   "metadata": {},
   "outputs": [],
   "source": [
    "df = df.join(rating, 'movieId','Left') #Junção dos DFs"
   ]
  },
  {
   "cell_type": "code",
   "execution_count": 83,
   "metadata": {},
   "outputs": [],
   "source": [
    "df = df.withColumn('rating', (col('rating')).cast(FloatType())) #tranformando a coluna em float"
   ]
  },
  {
   "cell_type": "code",
   "execution_count": null,
   "metadata": {},
   "outputs": [],
   "source": [
    "df.printSchema()"
   ]
  },
  {
   "cell_type": "code",
   "execution_count": 85,
   "metadata": {},
   "outputs": [],
   "source": [
    "df = df.drop(col('userId'), col('timestamp')) #removendo colunas desnecessárias"
   ]
  },
  {
   "cell_type": "code",
   "execution_count": 87,
   "metadata": {},
   "outputs": [],
   "source": [
    "df = df.dropDuplicates() #removendo duplicados"
   ]
  },
  {
   "cell_type": "code",
   "execution_count": 88,
   "metadata": {},
   "outputs": [],
   "source": [
    "df = df.withColumn(\"ano\", regexp_extract(col(\"title\"), r\"\\((\\d{4})\\)\", 1).cast(\"int\")) #Criar coluna com o ano do filme (que está no titulo!!!!)"
   ]
  },
  {
   "cell_type": "code",
   "execution_count": null,
   "metadata": {},
   "outputs": [],
   "source": [
    "genres = df.groupBy('genres').agg(count('*').cast(IntegerType()).alias('total_movies')).orderBy('total_movies',ascending=False) #Contando a quantidade de filmes por genero\n",
    "genres.show()"
   ]
  },
  {
   "cell_type": "code",
   "execution_count": null,
   "metadata": {},
   "outputs": [],
   "source": [
    "top_genres = genres.filter(col('total_movies')>900)\n",
    "top_genres.show()"
   ]
  },
  {
   "cell_type": "code",
   "execution_count": 132,
   "metadata": {},
   "outputs": [],
   "source": [
    "percent = df.withColumn('%', when(col('rating')== 5,1).otherwise(0)).groupBy('genres')\\\n",
    "            .agg(((100 * (sum('%')/count('%'))).alias('best_gen')))"
   ]
  },
  {
   "cell_type": "code",
   "execution_count": 133,
   "metadata": {},
   "outputs": [],
   "source": [
    "percent = percent.withColumn('best_gen', format_number(round(col('best_gen'),2),2))"
   ]
  },
  {
   "cell_type": "code",
   "execution_count": null,
   "metadata": {},
   "outputs": [],
   "source": [
    "percent.show()"
   ]
  },
  {
   "cell_type": "code",
   "execution_count": 144,
   "metadata": {},
   "outputs": [],
   "source": [
    "#percent.filter(col(\"genres\").isin(\"Comedy\",\"Drama\",\"Comedy|Romance\",\"Comedy|Drama\",\"Drama|Romance\",\"Comedy|Drama|Romance\")).show()\n",
    "top_genres_percent = top_genres.join(percent, 'genres', 'left')"
   ]
  },
  {
   "cell_type": "code",
   "execution_count": null,
   "metadata": {},
   "outputs": [],
   "source": [
    "top_genres_percent.orderBy('total_movies').show()"
   ]
  },
  {
   "cell_type": "code",
   "execution_count": null,
   "metadata": {},
   "outputs": [],
   "source": [
    "df.filter('genres == \"Comedy|Drama|Romance\"').where('rating == 5').orderBy('ano', ascending=False).show(truncate=False)"
   ]
  },
  {
   "cell_type": "code",
   "execution_count": null,
   "metadata": {},
   "outputs": [],
   "source": [
    "percent.orderBy('best_gen', ascending=False).show(900,truncate=False)"
   ]
  },
  {
   "cell_type": "code",
   "execution_count": 18,
   "metadata": {},
   "outputs": [
    {
     "name": "stdout",
     "output_type": "stream",
     "text": [
      "+-------+--------------------+------+------+------+----------+\n",
      "|movieId|               title|genres|userId|rating| timestamp|\n",
      "+-------+--------------------+------+------+------+----------+\n",
      "|    441|Dazed and Confuse...|Comedy|   608|   4.5|1117408069|\n",
      "+-------+--------------------+------+------+------+----------+\n",
      "\n"
     ]
    }
   ],
   "source": [
    "df.filter('genres = \"Comedy\"').where('userID = 608').where('timestamp = 1117408069').orderBy('timestamp').show()"
   ]
  },
  {
   "cell_type": "code",
   "execution_count": 19,
   "metadata": {},
   "outputs": [
    {
     "name": "stdout",
     "output_type": "stream",
     "text": [
      "+-------+--------------------+------+------+------+----------+\n",
      "|movieId|               title|genres|userId|rating| timestamp|\n",
      "+-------+--------------------+------+------+------+----------+\n",
      "|    471|Hudsucker Proxy, ...|Comedy|   608|   1.5|1117161794|\n",
      "|   3948|Meet the Parents ...|Comedy|   608|   4.0|1117162040|\n",
      "|   2423|Christmas Vacatio...|Comedy|   608|   2.0|1117162130|\n",
      "|   6807|Monty Python's Th...|Comedy|   608|   2.0|1117336709|\n",
      "|   6188|   Old School (2003)|Comedy|   608|   3.5|1117336762|\n",
      "|   3253|Wayne's World (1992)|Comedy|   608|   3.0|1117337026|\n",
      "|    441|Dazed and Confuse...|Comedy|   608|   4.5|1117408069|\n",
      "|    514|     Ref, The (1994)|Comedy|   608|   2.5|1117408127|\n",
      "|   1485|    Liar Liar (1997)|Comedy|   608|   3.0|1117408328|\n",
      "|   1080|Monty Python's Li...|Comedy|   608|   2.0|1117408365|\n",
      "|    785|      Kingpin (1996)|Comedy|   608|   2.5|1117408389|\n",
      "|    333|    Tommy Boy (1995)|Comedy|   608|   4.0|1117408457|\n",
      "|   4816|    Zoolander (2001)|Comedy|   608|   3.0|1117408491|\n",
      "|   2918|Ferris Bueller's ...|Comedy|   608|   4.0|1117408685|\n",
      "|   1288|This Is Spinal Ta...|Comedy|   608|   2.0|1117415334|\n",
      "|   3869|Naked Gun 2 1/2: ...|Comedy|   608|   2.0|1117415425|\n",
      "|   2247|Married to the Mo...|Comedy|   608|   1.0|1117415480|\n",
      "|   1091|Weekend at Bernie...|Comedy|   608|   0.5|1117415583|\n",
      "|     65|     Bio-Dome (1996)|Comedy|   608|   2.0|1117415653|\n",
      "|   6104|Monty Python Live...|Comedy|   608|   4.0|1117415687|\n",
      "+-------+--------------------+------+------+------+----------+\n",
      "only showing top 20 rows\n",
      "\n"
     ]
    }
   ],
   "source": [
    "df.filter((col('genres')=='Comedy')&(col('userId')==608)|(col('timestamp') ==1117408069)).orderBy('timestamp').show()"
   ]
  },
  {
   "cell_type": "code",
   "execution_count": 8,
   "metadata": {},
   "outputs": [
    {
     "name": "stdout",
     "output_type": "stream",
     "text": [
      "+-------+----------------+-------------------------------------------+------+------+----------+\n",
      "|movieId|title           |genres                                     |userId|rating|timestamp |\n",
      "+-------+----------------+-------------------------------------------+------+------+----------+\n",
      "|1      |Toy Story (1995)|Adventure|Animation|Children|Comedy|Fantasy|610   |5.0   |1479542900|\n",
      "|1      |Toy Story (1995)|Adventure|Animation|Children|Comedy|Fantasy|609   |3.0   |847221025 |\n",
      "|1      |Toy Story (1995)|Adventure|Animation|Children|Comedy|Fantasy|608   |2.5   |1117408267|\n",
      "|1      |Toy Story (1995)|Adventure|Animation|Children|Comedy|Fantasy|607   |4.0   |964744033 |\n",
      "|1      |Toy Story (1995)|Adventure|Animation|Children|Comedy|Fantasy|606   |2.5   |1349082950|\n",
      "|1      |Toy Story (1995)|Adventure|Animation|Children|Comedy|Fantasy|605   |4.0   |1277097561|\n",
      "|1      |Toy Story (1995)|Adventure|Animation|Children|Comedy|Fantasy|604   |3.0   |832079851 |\n",
      "|1      |Toy Story (1995)|Adventure|Animation|Children|Comedy|Fantasy|603   |4.0   |963178147 |\n",
      "|1      |Toy Story (1995)|Adventure|Animation|Children|Comedy|Fantasy|601   |4.0   |1521467801|\n",
      "|1      |Toy Story (1995)|Adventure|Animation|Children|Comedy|Fantasy|600   |2.5   |1237764347|\n",
      "|1      |Toy Story (1995)|Adventure|Animation|Children|Comedy|Fantasy|599   |3.0   |1498524204|\n",
      "|1      |Toy Story (1995)|Adventure|Animation|Children|Comedy|Fantasy|597   |4.0   |941557863 |\n",
      "|1      |Toy Story (1995)|Adventure|Animation|Children|Comedy|Fantasy|596   |4.0   |1535709666|\n",
      "|1      |Toy Story (1995)|Adventure|Animation|Children|Comedy|Fantasy|590   |4.0   |1258420408|\n",
      "|1      |Toy Story (1995)|Adventure|Animation|Children|Comedy|Fantasy|587   |5.0   |953137847 |\n",
      "|1      |Toy Story (1995)|Adventure|Animation|Children|Comedy|Fantasy|584   |5.0   |834987643 |\n",
      "|1      |Toy Story (1995)|Adventure|Animation|Children|Comedy|Fantasy|580   |3.0   |1167792349|\n",
      "|1      |Toy Story (1995)|Adventure|Animation|Children|Comedy|Fantasy|579   |4.0   |958881146 |\n",
      "|1      |Toy Story (1995)|Adventure|Animation|Children|Comedy|Fantasy|573   |5.0   |1186722182|\n",
      "|1      |Toy Story (1995)|Adventure|Animation|Children|Comedy|Fantasy|572   |4.0   |945892484 |\n",
      "+-------+----------------+-------------------------------------------+------+------+----------+\n",
      "only showing top 20 rows\n",
      "\n"
     ]
    }
   ],
   "source": [
    "df.show(truncate=False)"
   ]
  }
 ],
 "metadata": {
  "kernelspec": {
   "display_name": "Python 3",
   "language": "python",
   "name": "python3"
  },
  "language_info": {
   "codemirror_mode": {
    "name": "ipython",
    "version": 3
   },
   "file_extension": ".py",
   "mimetype": "text/x-python",
   "name": "python",
   "nbconvert_exporter": "python",
   "pygments_lexer": "ipython3",
   "version": "3.11.4"
  },
  "orig_nbformat": 4
 },
 "nbformat": 4,
 "nbformat_minor": 2
}
