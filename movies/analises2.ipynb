{
 "cells": [
  {
   "cell_type": "code",
   "execution_count": 1,
   "metadata": {},
   "outputs": [],
   "source": [
    "from pyspark.sql import SparkSession\n",
    "from pyspark.sql.types import *\n",
    "from pyspark.sql.functions import *\n",
    "from pyspark.sql.window import Window"
   ]
  },
  {
   "cell_type": "code",
   "execution_count": 67,
   "metadata": {},
   "outputs": [],
   "source": [
    "spark = (\n",
    "      SparkSession.builder \\\n",
    "      .master(\"local\") \\\n",
    "      .appName(\"Spark\") \\\n",
    "      .getOrCreate()\n",
    " )"
   ]
  },
  {
   "cell_type": "code",
   "execution_count": 86,
   "metadata": {},
   "outputs": [],
   "source": [
    "tags = spark.read.csv('tags.csv', header=True, inferSchema=True)\n",
    "df = spark.read.csv('movies.csv', header=True, inferSchema=True)\n",
    "rating = spark.read.csv('ratings.csv', header=True, inferSchema=True)"
   ]
  },
  {
   "cell_type": "code",
   "execution_count": 90,
   "metadata": {},
   "outputs": [],
   "source": [
    "df = df.join(rating, \"movieId\", \"left\")"
   ]
  },
  {
   "cell_type": "code",
   "execution_count": 85,
   "metadata": {},
   "outputs": [
    {
     "data": {
      "text/plain": [
       "['movieId', 'userId', 'tag', 'timestamp', 'userId', 'rating', 'timestamp']"
      ]
     },
     "execution_count": 85,
     "metadata": {},
     "output_type": "execute_result"
    }
   ],
   "source": [
    "tags.columns"
   ]
  },
  {
   "cell_type": "code",
   "execution_count": 94,
   "metadata": {},
   "outputs": [],
   "source": [
    "df = df.drop(col('userId'),(col('timestamp')))"
   ]
  },
  {
   "cell_type": "code",
   "execution_count": 88,
   "metadata": {},
   "outputs": [],
   "source": [
    "df = df.join(tags, \"movieId\", \"left\")"
   ]
  },
  {
   "cell_type": "code",
   "execution_count": 91,
   "metadata": {},
   "outputs": [
    {
     "data": {
      "text/plain": [
       "['movieId', 'title', 'genres', 'tag', 'userId', 'rating', 'timestamp']"
      ]
     },
     "execution_count": 91,
     "metadata": {},
     "output_type": "execute_result"
    }
   ],
   "source": [
    "df.columns"
   ]
  },
  {
   "cell_type": "code",
   "execution_count": 101,
   "metadata": {},
   "outputs": [
    {
     "name": "stdout",
     "output_type": "stream",
     "text": [
      "+-------+--------------+--------------------------+----+------+\n",
      "|movieId|title         |genres                    |tag |rating|\n",
      "+-------+--------------+--------------------------+----+------+\n",
      "|2      |Jumanji (1995)|Adventure|Children|Fantasy|game|2.0   |\n",
      "|2      |Jumanji (1995)|Adventure|Children|Fantasy|game|1.5   |\n",
      "|2      |Jumanji (1995)|Adventure|Children|Fantasy|game|4.5   |\n",
      "|2      |Jumanji (1995)|Adventure|Children|Fantasy|game|4.0   |\n",
      "|2      |Jumanji (1995)|Adventure|Children|Fantasy|game|0.5   |\n",
      "|2      |Jumanji (1995)|Adventure|Children|Fantasy|game|1.0   |\n",
      "|2      |Jumanji (1995)|Adventure|Children|Fantasy|game|2.5   |\n",
      "|2      |Jumanji (1995)|Adventure|Children|Fantasy|game|3.5   |\n",
      "|2      |Jumanji (1995)|Adventure|Children|Fantasy|game|3.0   |\n",
      "|2      |Jumanji (1995)|Adventure|Children|Fantasy|game|5.0   |\n",
      "+-------+--------------+--------------------------+----+------+\n",
      "\n"
     ]
    }
   ],
   "source": [
    "df.filter((col('tag')=='game')).show(truncate=False)"
   ]
  },
  {
   "cell_type": "code",
   "execution_count": 103,
   "metadata": {},
   "outputs": [],
   "source": [
    "df = df.drop(col('rating'))"
   ]
  }
 ],
 "metadata": {
  "kernelspec": {
   "display_name": "Python 3",
   "language": "python",
   "name": "python3"
  },
  "language_info": {
   "codemirror_mode": {
    "name": "ipython",
    "version": 3
   },
   "file_extension": ".py",
   "mimetype": "text/x-python",
   "name": "python",
   "nbconvert_exporter": "python",
   "pygments_lexer": "ipython3",
   "version": "3.11.4"
  },
  "orig_nbformat": 4
 },
 "nbformat": 4,
 "nbformat_minor": 2
}
