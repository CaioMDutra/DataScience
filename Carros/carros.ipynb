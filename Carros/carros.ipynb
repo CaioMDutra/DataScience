{
 "cells": [
  {
   "cell_type": "code",
   "execution_count": 73,
   "metadata": {},
   "outputs": [],
   "source": [
    "from pyspark.sql.functions import *\n",
    "from pyspark.sql.types import *\n",
    "from pyspark.sql import SparkSession\n",
    "from pyspark.sql.window import Window\n",
    "import matplotlib.pyplot as plt"
   ]
  },
  {
   "cell_type": "code",
   "execution_count": 9,
   "metadata": {},
   "outputs": [],
   "source": [
    "spark = (\n",
    "    SparkSession.builder\\\n",
    "    .appName('Spark')\\\n",
    "    .getOrCreate()\n",
    ")"
   ]
  },
  {
   "cell_type": "code",
   "execution_count": 10,
   "metadata": {},
   "outputs": [
    {
     "data": {
      "text/plain": [
       "258"
      ]
     },
     "execution_count": 10,
     "metadata": {},
     "output_type": "execute_result"
    }
   ],
   "source": [
    "df = spark.read.csv('carros.csv', header=True, inferSchema=True)\n",
    "df.count()"
   ]
  },
  {
   "cell_type": "code",
   "execution_count": 8,
   "metadata": {},
   "outputs": [
    {
     "name": "stdout",
     "output_type": "stream",
     "text": [
      "root\n",
      " |-- Nome: string (nullable = true)\n",
      " |-- Motor: string (nullable = true)\n",
      " |-- Ano: integer (nullable = true)\n",
      " |-- Quilometragem: integer (nullable = true)\n",
      " |-- Zero_km: boolean (nullable = true)\n",
      " |-- Acessorios: string (nullable = true)\n",
      " |-- valor: double (nullable = true)\n",
      "\n"
     ]
    }
   ],
   "source": [
    "df.printSchema()"
   ]
  },
  {
   "cell_type": "code",
   "execution_count": 9,
   "metadata": {},
   "outputs": [],
   "source": [
    "df = df.withColumn('valor', col('valor').cast(FloatType()))"
   ]
  },
  {
   "cell_type": "code",
   "execution_count": 10,
   "metadata": {},
   "outputs": [
    {
     "name": "stdout",
     "output_type": "stream",
     "text": [
      "+----------------+---------------------+----+-------------+-------+--------------------------------------------------+---------+\n",
      "|Nome            |Motor                |Ano |Quilometragem|Zero_km|Acessorios                                        |valor    |\n",
      "+----------------+---------------------+----+-------------+-------+--------------------------------------------------+---------+\n",
      "|Jetta Variant   |Motor 4.0 Turbo      |2003|44410        |false  |Rodas de liga, Sensor de chuva                    |88078.64 |\n",
      "|Passat          |Motor Diesel         |1991|5712         |false  |Central multimídia, Câmera de estacionamento      |106161.94|\n",
      "|Crossfox        |Motor Diesel V8      |1990|37123        |false  |Piloto automático, Vidros elétricos               |72832.16 |\n",
      "|DS5             |Motor 2.4 Turbo      |2019|null         |true   |Travas elétricas, Rodas de liga                   |124549.07|\n",
      "|Aston Martin DB4|Motor 2.4 Turbo      |2006|25757        |false  |Rodas de liga, Piloto automático                  |92612.1  |\n",
      "|Palio Weekend   |Motor 1.8 16v        |2012|10728        |false  |Sensor de estacionamento, Bancos de couro         |97497.73 |\n",
      "|A5              |Motor 4.0 Turbo      |2019|null         |true   |Câmbio automático, Rodas de liga                  |56445.2  |\n",
      "|Série 3 Cabrio  |Motor 1.0 8v         |2009|77599        |false  |Controle de estabilidade, Câmera de estacionamento|112310.44|\n",
      "|Dodge Jorney    |Motor 3.0 32v        |2010|99197        |false  |Vidros elétricos, Travas elétricas                |120716.27|\n",
      "|Carens          |Motor 5.0 V8 Bi-Turbo|2011|37978        |false  |Ar condicionado, Câmera de estacionamento         |76566.49 |\n",
      "|Ford Edge       |Motor Diesel V6      |2002|12859        |false  |Sensor crepuscular, Ar condicionado               |71647.59 |\n",
      "|Courier         |Motor Diesel V8      |2007|8052         |false  |Central multimídia, Vidros elétricos              |73919.53 |\n",
      "|S-18            |Motor V6             |2001|89773        |false  |Bancos de couro, Sensor crepuscular               |112732.99|\n",
      "|J5              |Motor V6             |2019|null         |true   |Sensor crepuscular, Câmera de estacionamento      |53183.38 |\n",
      "|F-Type Coupé    |Motor 5.0 V8 Bi-Turbo|2009|41457        |false  |Piloto automático, Vidros elétricos               |127488.42|\n",
      "|RAM             |Motor Diesel V8      |2016|115607       |false  |Sensor crepuscular, Piloto automático             |59910.4  |\n",
      "|Série 1         |Motor 3.0 32v        |2012|46449        |false  |Teto panorâmico, Freios ABS                       |61118.59 |\n",
      "|A3              |Motor 1.0 8v         |2019|null         |true   |4 X 4, Sensor de chuva                            |88552.39 |\n",
      "|XC90            |Motor 1.0 8v         |2016|37086        |false  |Travas elétricas, Sensor de chuva                 |62696.69 |\n",
      "|RS 3 Sportback  |Motor 3.0 32v        |2017|15173        |false  |4 X 4, Sensor crepuscular                         |101726.3 |\n",
      "+----------------+---------------------+----+-------------+-------+--------------------------------------------------+---------+\n",
      "only showing top 20 rows\n",
      "\n"
     ]
    }
   ],
   "source": [
    "df.show(truncate=False)"
   ]
  },
  {
   "cell_type": "code",
   "execution_count": 11,
   "metadata": {},
   "outputs": [
    {
     "name": "stdout",
     "output_type": "stream",
     "text": [
      "+-------------------+------------+----+-------------+-------+--------------------+---------+\n",
      "|               Nome|       Motor| Ano|Quilometragem|Zero_km|          Acessorios|    valor|\n",
      "+-------------------+------------+----+-------------+-------+--------------------+---------+\n",
      "|       Série 7 Sedã|Motor Diesel|2019|         null|   true|Vidros elétricos,...| 67539.79|\n",
      "|            Sorento|Motor Diesel|2019|         null|   true|Sensor de chuva, ...| 81399.35|\n",
      "|Aston Martin Virage|Motor Diesel|2019|         null|   true|Travas elétricas,...| 97290.18|\n",
      "|              Camry|Motor Diesel|2019|         null|   true|Travas elétricas,...|138597.27|\n",
      "|        Cielo Hatch|Motor Diesel|2019|         null|   true|Painel digital, A...| 145197.7|\n",
      "+-------------------+------------+----+-------------+-------+--------------------+---------+\n",
      "\n"
     ]
    }
   ],
   "source": [
    "df.filter(col('Zero_km')==\"true\").where(col('Motor')=='Motor Diesel').orderBy('valor').show()"
   ]
  },
  {
   "cell_type": "code",
   "execution_count": 12,
   "metadata": {},
   "outputs": [
    {
     "name": "stdout",
     "output_type": "stream",
     "text": [
      "+--------------------+----------+\n",
      "|               Motor|qtde_motor|\n",
      "+--------------------+----------+\n",
      "|       Motor 3.0 32v|        27|\n",
      "|        Motor Diesel|        26|\n",
      "|        Motor 1.0 8v|        25|\n",
      "|            Motor V8|        25|\n",
      "|     Motor 4.0 Turbo|        25|\n",
      "|     Motor Diesel V6|        21|\n",
      "|     Motor Diesel V8|        21|\n",
      "|Motor 5.0 V8 Bi-T...|        21|\n",
      "|            Motor V6|        20|\n",
      "|       Motor 2.0 16v|        18|\n",
      "|       Motor 1.8 16v|        18|\n",
      "|     Motor 2.4 Turbo|        10|\n",
      "|                null|         1|\n",
      "+--------------------+----------+\n",
      "\n"
     ]
    }
   ],
   "source": [
    "df.groupBy('Motor').agg(count('*').alias('qtde_motor')).orderBy('qtde_motor', ascending=False).show(300)"
   ]
  },
  {
   "cell_type": "code",
   "execution_count": 13,
   "metadata": {},
   "outputs": [
    {
     "name": "stdout",
     "output_type": "stream",
     "text": [
      "+--------------------+-------------+----+-------------+-------+--------------------+---------+\n",
      "|                Nome|        Motor| Ano|Quilometragem|Zero_km|          Acessorios|    valor|\n",
      "+--------------------+-------------+----+-------------+-------+--------------------+---------+\n",
      "|Lamborghini Ferru...|Motor 3.0 32v|2019|         null|   true|Vidros elétricos,...|149157.17|\n",
      "|               Versa|Motor 3.0 32v|2009|        85554|  false|Bancos de couro, ...|148152.89|\n",
      "|               Fusca|Motor 3.0 32v|2013|        24638|  false|Câmbio automático...|130238.04|\n",
      "|            Santa Fe|Motor 3.0 32v|2019|         null|   true|Travas elétricas,...|129415.33|\n",
      "|        Dodge Jorney|Motor 3.0 32v|2010|        99197|  false|Vidros elétricos,...|120716.27|\n",
      "|              Cayman|Motor 3.0 32v|2013|         2627|  false|Central multimídi...|117961.95|\n",
      "|              207 SW|Motor 3.0 32v|2017|       119760|  false|Controle de estab...|117709.67|\n",
      "|          Grand Tour|Motor 3.0 32v|1999|        49182|  false|Rodas de liga, Te...|116031.04|\n",
      "|                  Q3|Motor 3.0 32v|2019|         null|   true|Controle de estab...|114727.68|\n",
      "|     Sandero Stepway|Motor 3.0 32v|2019|         null|   true|Freios ABS, Pilot...|105432.84|\n",
      "|  Lamborghini Veneno|Motor 3.0 32v|2019|         null|   true|4 X 4, Piloto aut...|104038.79|\n",
      "|      RS 3 Sportback|Motor 3.0 32v|2017|        15173|  false|4 X 4, Sensor cre...| 101726.3|\n",
      "|               Tiggo|Motor 3.0 32v|2019|         null|   true|Câmera de estacio...|  97163.1|\n",
      "|         Doblò Cargo|Motor 3.0 32v|2008|        64247|  false|   Freios ABS, 4 X 4| 96065.38|\n",
      "|            Classe S|Motor 3.0 32v|2019|         null|   true|Controle de traçã...|  89401.1|\n",
      "|Ford New Fiesta S...|Motor 3.0 32v|2004|        69945|  false|Teto panorâmico, ...| 84222.65|\n",
      "| Lamborghini Egoista|Motor 3.0 32v|2006|        26731|  false|Rodas de liga, Se...| 83434.04|\n",
      "|         Z4 Roadster|Motor 3.0 32v|2019|         null|   true|Central multimídi...| 80382.24|\n",
      "|           Classe GL|Motor 3.0 32v|1996|        96610|  false|Freios ABS, Banco...| 73389.18|\n",
      "|      Série 1 Cabrio|Motor 3.0 32v|2015|        91277|  false|Vidros elétricos,...| 72731.98|\n",
      "+--------------------+-------------+----+-------------+-------+--------------------+---------+\n",
      "only showing top 20 rows\n",
      "\n"
     ]
    }
   ],
   "source": [
    "df.filter('Motor = \"Motor 3.0 32v\"').orderBy('valor', ascending=False).show()"
   ]
  },
  {
   "cell_type": "code",
   "execution_count": 14,
   "metadata": {},
   "outputs": [
    {
     "name": "stdout",
     "output_type": "stream",
     "text": [
      "+---------------------+------------+----+-------------+-------+--------------------------------------------+---------+\n",
      "|Nome                 |Motor       |Ano |Quilometragem|Zero_km|Acessorios                                  |valor    |\n",
      "+---------------------+------------+----+-------------+-------+--------------------------------------------+---------+\n",
      "|Kangoo Express       |Motor Diesel|2007|29132        |false  |Bancos de couro, Painel digital             |146716.9 |\n",
      "|Gallardo LP 560 – 4  |Motor Diesel|2000|113045       |false  |Freios ABS, 4 X 4                           |144118.9 |\n",
      "|Silver Shadow        |Motor Diesel|2015|99052        |false  |4 X 4, Sensor de chuva                      |143568.22|\n",
      "|Dodge Dakota         |Motor Diesel|1993|71544        |false  |Controle de tração, Vidros elétricos        |141083.34|\n",
      "|A4 Avant             |Motor Diesel|2014|17357        |false  |Teto panorâmico, Controle de tração         |138946.88|\n",
      "|Symbol               |Motor Diesel|2016|117714       |false  |4 X 4, Controle de tração                   |133030.6 |\n",
      "|Chana Utility        |Motor Diesel|2009|52034        |false  |Ar condicionado, Rodas de liga              |132662.31|\n",
      "|Effa Hafei Picape Baú|Motor Diesel|1991|102959       |false  |Controle de estabilidade, Central multimídia|125684.65|\n",
      "|Aston Martin DB5     |Motor Diesel|1996|7685         |false  |Ar condicionado, Central multimídia         |122110.9 |\n",
      "|V60                  |Motor Diesel|2004|91840        |false  |Rodas de liga, Teto panorâmico              |114728.74|\n",
      "|Sandero              |Motor Diesel|2015|34783        |false  |Piloto automático, Câmera de estacionamento |112350.61|\n",
      "|Clio                 |Motor Diesel|1990|66437        |false  |4 X 4, Sensor crepuscular                   |111130.33|\n",
      "|Passat               |Motor Diesel|1991|5712         |false  |Central multimídia, Câmera de estacionamento|106161.94|\n",
      "|A4 Sedan             |Motor Diesel|2002|30511        |false  |Câmera de estacionamento, Central multimídia|96369.04 |\n",
      "|TT Roadster          |Motor Diesel|1998|107392       |false  |Ar condicionado, Travas elétricas           |85311.4  |\n",
      "|Fit                  |Motor Diesel|2013|44329        |false  |Freios ABS, Sensor crepuscular              |77836.23 |\n",
      "|i30 CW               |Motor Diesel|2015|8497         |false  |Sensor de chuva, Freios ABS                 |73311.75 |\n",
      "|Série 3 M3 Coupé     |Motor Diesel|2013|19896        |false  |Bancos de couro, Sensor crepuscular         |69219.89 |\n",
      "|New Fiesta Hatch     |Motor Diesel|2017|118895       |false  |Sensor de estacionamento, Sensor crepuscular|66007.16 |\n",
      "|X5                   |Motor Diesel|2002|13606        |false  |Controle de tração, Painel digital          |62041.32 |\n",
      "+---------------------+------------+----+-------------+-------+--------------------------------------------+---------+\n",
      "only showing top 20 rows\n",
      "\n"
     ]
    }
   ],
   "source": [
    "df.filter(col('Motor')==\"Motor Diesel\").where(col('Zero_km')==\"false\").orderBy('valor', ascending=False).show(truncate=False)"
   ]
  },
  {
   "cell_type": "code",
   "execution_count": 15,
   "metadata": {},
   "outputs": [
    {
     "name": "stdout",
     "output_type": "stream",
     "text": [
      "+----------------+--------------------------------------------------+\n",
      "|nome            |acessorios                                        |\n",
      "+----------------+--------------------------------------------------+\n",
      "|Jetta Variant   |Rodas de liga, Sensor de chuva                    |\n",
      "|Passat          |Central multimídia, Câmera de estacionamento      |\n",
      "|Crossfox        |Piloto automático, Vidros elétricos               |\n",
      "|DS5             |Travas elétricas, Rodas de liga                   |\n",
      "|Aston Martin DB4|Rodas de liga, Piloto automático                  |\n",
      "|Palio Weekend   |Sensor de estacionamento, Bancos de couro         |\n",
      "|A5              |Câmbio automático, Rodas de liga                  |\n",
      "|Série 3 Cabrio  |Controle de estabilidade, Câmera de estacionamento|\n",
      "|Dodge Jorney    |Vidros elétricos, Travas elétricas                |\n",
      "|Carens          |Ar condicionado, Câmera de estacionamento         |\n",
      "|Ford Edge       |Sensor crepuscular, Ar condicionado               |\n",
      "|Courier         |Central multimídia, Vidros elétricos              |\n",
      "|S-18            |Bancos de couro, Sensor crepuscular               |\n",
      "|J5              |Sensor crepuscular, Câmera de estacionamento      |\n",
      "|F-Type Coupé    |Piloto automático, Vidros elétricos               |\n",
      "|RAM             |Sensor crepuscular, Piloto automático             |\n",
      "|Série 1         |Teto panorâmico, Freios ABS                       |\n",
      "|A3              |4 X 4, Sensor de chuva                            |\n",
      "|XC90            |Travas elétricas, Sensor de chuva                 |\n",
      "|RS 3 Sportback  |4 X 4, Sensor crepuscular                         |\n",
      "+----------------+--------------------------------------------------+\n",
      "only showing top 20 rows\n",
      "\n"
     ]
    }
   ],
   "source": [
    "df.select(['nome','acessorios']).show(truncate=False)"
   ]
  },
  {
   "cell_type": "code",
   "execution_count": 16,
   "metadata": {},
   "outputs": [
    {
     "name": "stdout",
     "output_type": "stream",
     "text": [
      "+----------------+--------------------+----+-------------+-------+--------------------+---------+------+\n",
      "|            Nome|               Motor| Ano|Quilometragem|Zero_km|          Acessorios|    valor|   age|\n",
      "+----------------+--------------------+----+-------------+-------+--------------------+---------+------+\n",
      "|   Jetta Variant|     Motor 4.0 Turbo|2003|        44410|  false|Rodas de liga, Se...| 88078.64|medium|\n",
      "|          Passat|        Motor Diesel|1991|         5712|  false|Central multimídi...|106161.94|   old|\n",
      "|        Crossfox|     Motor Diesel V8|1990|        37123|  false|Piloto automático...| 72832.16|   old|\n",
      "|             DS5|     Motor 2.4 Turbo|2019|         null|   true|Travas elétricas,...|124549.07|   new|\n",
      "|Aston Martin DB4|     Motor 2.4 Turbo|2006|        25757|  false|Rodas de liga, Pi...|  92612.1|medium|\n",
      "|   Palio Weekend|       Motor 1.8 16v|2012|        10728|  false|Sensor de estacio...| 97497.73|   new|\n",
      "|              A5|     Motor 4.0 Turbo|2019|         null|   true|Câmbio automático...|  56445.2|   new|\n",
      "|  Série 3 Cabrio|        Motor 1.0 8v|2009|        77599|  false|Controle de estab...|112310.44|medium|\n",
      "|    Dodge Jorney|       Motor 3.0 32v|2010|        99197|  false|Vidros elétricos,...|120716.27|medium|\n",
      "|          Carens|Motor 5.0 V8 Bi-T...|2011|        37978|  false|Ar condicionado, ...| 76566.49|   new|\n",
      "|       Ford Edge|     Motor Diesel V6|2002|        12859|  false|Sensor crepuscula...| 71647.59|medium|\n",
      "|         Courier|     Motor Diesel V8|2007|         8052|  false|Central multimídi...| 73919.53|medium|\n",
      "|            S-18|            Motor V6|2001|        89773|  false|Bancos de couro, ...|112732.99|medium|\n",
      "|              J5|            Motor V6|2019|         null|   true|Sensor crepuscula...| 53183.38|   new|\n",
      "|    F-Type Coupé|Motor 5.0 V8 Bi-T...|2009|        41457|  false|Piloto automático...|127488.42|medium|\n",
      "|             RAM|     Motor Diesel V8|2016|       115607|  false|Sensor crepuscula...|  59910.4|   new|\n",
      "|         Série 1|       Motor 3.0 32v|2012|        46449|  false|Teto panorâmico, ...| 61118.59|   new|\n",
      "|              A3|        Motor 1.0 8v|2019|         null|   true|4 X 4, Sensor de ...| 88552.39|   new|\n",
      "|            XC90|        Motor 1.0 8v|2016|        37086|  false|Travas elétricas,...| 62696.69|   new|\n",
      "|  RS 3 Sportback|       Motor 3.0 32v|2017|        15173|  false|4 X 4, Sensor cre...| 101726.3|   new|\n",
      "+----------------+--------------------+----+-------------+-------+--------------------+---------+------+\n",
      "only showing top 20 rows\n",
      "\n"
     ]
    }
   ],
   "source": [
    "df.withColumn(\"age\", when(col(\"Ano\")<2000,\"old\").when(col(\"Ano\")>2010,\"new\").otherwise(\"medium\")).show()\n",
    "#df.show()"
   ]
  },
  {
   "cell_type": "code",
   "execution_count": 17,
   "metadata": {},
   "outputs": [],
   "source": [
    "df = df.withColumn('Status', \n",
    "              when(col(\"valor\")<5000,\"barato\")\n",
    "              .when((col(\"valor\")>5000) & (col(\"valor\") <20000),\"intermediario\")\n",
    "              .when((col(\"valor\")>20000) & (col(\"valor\") < 70000),\"caro\")\n",
    "              .otherwise(\"carro de rico\"))"
   ]
  },
  {
   "cell_type": "code",
   "execution_count": 18,
   "metadata": {},
   "outputs": [
    {
     "name": "stdout",
     "output_type": "stream",
     "text": [
      "+--------------------+--------------------+----+-------------+-------+--------------------+--------+------+\n",
      "|                Nome|               Motor| Ano|Quilometragem|Zero_km|          Acessorios|   valor|Status|\n",
      "+--------------------+--------------------+----+-------------+-------+--------------------+--------+------+\n",
      "|              Livina|       Motor 2.0 16v|2019|         null|   true|Sensor crepuscula...| 50742.1|  caro|\n",
      "|          Pajero TR4|     Motor 2.4 Turbo|2019|         null|   true|Controle de traçã...|51606.59|  caro|\n",
      "|Cadillac Ciel con...|            Motor V8|1991|        29981|  false|Bancos de couro, ...|51667.06|  caro|\n",
      "|        Phantom 2013|            Motor V8|2014|        27505|  false|Controle de estab...|51759.58|  caro|\n",
      "|  Cadillac XTS sedan|     Motor Diesel V6|1993|        90924|  false|Ar condicionado, ...|52207.45|  caro|\n",
      "|                 C30|        Motor 1.0 8v|2001|        55738|  false|Teto panorâmico, ...|52805.91|  caro|\n",
      "|                  J5|            Motor V6|2019|         null|   true|Sensor crepuscula...|53183.38|  caro|\n",
      "|               Equus|       Motor 3.0 32v|2004|        57683|  false|Travas elétricas,...|53620.31|  caro|\n",
      "|        Cadillac CTS|       Motor 1.8 16v|2018|        88661|  false|Travas elétricas,...|53894.61|  caro|\n",
      "|                 XKR|        Motor Diesel|1996|        85127|  false|Controle de traçã...|54263.16|  caro|\n",
      "|               March|            Motor V6|2007|        79607|  false|Bancos de couro, ...|54332.87|  caro|\n",
      "|   Lamborghini Jalpa|       Motor 1.8 16v|2018|         9146|  false|Piloto automático...|54388.11|  caro|\n",
      "|                 DS3|       Motor 1.8 16v|2000|       116002|  false|Controle de estab...|54559.18|  caro|\n",
      "|Lamborghini Sesto...|            Motor V8|2007|        85384|  false|Sensor crepuscula...|55081.99|  caro|\n",
      "|        Série 3 Sedã|       Motor 3.0 32v|1993|        28834|  false|Controle de traçã...|55924.63|  caro|\n",
      "|              Sonata|Motor 5.0 V8 Bi-T...|2002|         9755|  false|Piloto automático...| 56208.7|  caro|\n",
      "|              Hoggar|Motor 5.0 V8 Bi-T...|2010|        35345|  false|Controle de estab...|56373.99|  caro|\n",
      "|                  A5|     Motor 4.0 Turbo|2019|         null|   true|Câmbio automático...| 56445.2|  caro|\n",
      "|          C3 Picasso|       Motor 3.0 32v|2019|         null|   true|Teto panorâmico, ...|56453.94|  caro|\n",
      "|        Cadillac XLR|     Motor Diesel V8|2003|        56638|  false|Sensor crepuscula...|56646.34|  caro|\n",
      "+--------------------+--------------------+----+-------------+-------+--------------------+--------+------+\n",
      "only showing top 20 rows\n",
      "\n"
     ]
    }
   ],
   "source": [
    "df.filter(col('Status')==\"caro\").orderBy(\"valor\").show()"
   ]
  },
  {
   "cell_type": "code",
   "execution_count": 19,
   "metadata": {},
   "outputs": [
    {
     "name": "stdout",
     "output_type": "stream",
     "text": [
      "+----------+\n",
      "|max(valor)|\n",
      "+----------+\n",
      "| 149489.92|\n",
      "+----------+\n",
      "\n"
     ]
    }
   ],
   "source": [
    "df.select(max(\"valor\")).show()"
   ]
  },
  {
   "cell_type": "code",
   "execution_count": 20,
   "metadata": {},
   "outputs": [
    {
     "name": "stdout",
     "output_type": "stream",
     "text": [
      "+----------+\n",
      "|min(valor)|\n",
      "+----------+\n",
      "|   50742.1|\n",
      "+----------+\n",
      "\n"
     ]
    }
   ],
   "source": [
    "df.select(min(\"valor\")).show()"
   ]
  },
  {
   "cell_type": "code",
   "execution_count": 21,
   "metadata": {},
   "outputs": [
    {
     "name": "stdout",
     "output_type": "stream",
     "text": [
      "+------+---------------+----+-------------+-------+--------------------+---------+-------------+\n",
      "|  Nome|          Motor| Ano|Quilometragem|Zero_km|          Acessorios|    valor|       Status|\n",
      "+------+---------------+----+-------------+-------+--------------------+---------+-------------+\n",
      "|Livina|  Motor 2.0 16v|2019|         null|   true|Sensor crepuscula...|  50742.1|         caro|\n",
      "|   ASX|Motor Diesel V8|2003|        61672|  false|Ar condicionado, ...|149489.92|carro de rico|\n",
      "+------+---------------+----+-------------+-------+--------------------+---------+-------------+\n",
      "\n"
     ]
    }
   ],
   "source": [
    "from certifi import where\n",
    "\n",
    "\n",
    "df.filter((col('valor') > 149489.91) | (col('valor') <  50742.2)).show()"
   ]
  },
  {
   "cell_type": "code",
   "execution_count": 22,
   "metadata": {},
   "outputs": [
    {
     "name": "stdout",
     "output_type": "stream",
     "text": [
      "+---------------+---------------+----+-------------+-------+--------------------+---------+-------------+\n",
      "|           Nome|          Motor| Ano|Quilometragem|Zero_km|          Acessorios|    valor|       Status|\n",
      "+---------------+---------------+----+-------------+-------+--------------------+---------+-------------+\n",
      "|           CR-V|Motor Diesel V8|2019|         null|   true|Câmbio automático...|  64701.1|         caro|\n",
      "|    Grand Siena|Motor Diesel V8|2019|         null|   true|Bancos de couro, ...|115075.59|carro de rico|\n",
      "|    L200 Triton|Motor Diesel V8|2019|         null|   true|Vidros elétricos,...| 81999.21|carro de rico|\n",
      "|Vantage Volante|Motor Diesel V8|2019|         null|   true|Freios ABS, Câmbi...|114434.94|carro de rico|\n",
      "|       Classe B|Motor Diesel V8|2019|         null|   true|   4 X 4, Freios ABS| 135543.0|carro de rico|\n",
      "|         Parati|Motor Diesel V8|2019|         null|   true|Sensor de estacio...|121708.73|carro de rico|\n",
      "+---------------+---------------+----+-------------+-------+--------------------+---------+-------------+\n",
      "\n"
     ]
    }
   ],
   "source": [
    "df.filter((col('Motor') == \"Motor Diesel V8\") & (col('Zero_km') == \"true\")).show()"
   ]
  },
  {
   "cell_type": "code",
   "execution_count": 23,
   "metadata": {},
   "outputs": [
    {
     "name": "stdout",
     "output_type": "stream",
     "text": [
      "+------------------------+---------------------+----+-------------+-------+--------------------------------------------------+---------+\n",
      "|Nome                    |Motor                |Ano |Quilometragem|Zero_km|Acessorios                                        |valor    |\n",
      "+------------------------+---------------------+----+-------------+-------+--------------------------------------------------+---------+\n",
      "|Livina                  |Motor 2.0 16v        |2019|null         |true   |Sensor crepuscular, Sensor de estacionamento      |50742.1  |\n",
      "|Equus                   |Motor 3.0 32v        |2004|57683        |false  |Travas elétricas, Sensor de estacionamento        |53620.31 |\n",
      "|XKR                     |Motor Diesel         |1996|85127        |false  |Controle de tração, Sensor de estacionamento      |54263.16 |\n",
      "|Série 3 Sedã            |Motor 3.0 32v        |1993|28834        |false  |Controle de tração, Sensor de estacionamento      |55924.63 |\n",
      "|New Fiesta Hatch        |Motor Diesel         |2017|118895       |false  |Sensor de estacionamento, Sensor crepuscular      |66007.16 |\n",
      "|Classe SLS AMG          |Motor 1.0 8v         |1997|30163        |false  |Sensor de estacionamento, Bancos de couro         |70707.2  |\n",
      "|Up!                     |Motor Diesel V6      |2019|null         |true   |Sensor de estacionamento, Piloto automático       |71367.1  |\n",
      "|Optima                  |Motor 1.8 16v        |2019|null         |true   |Central multimídia, Sensor de estacionamento      |86641.34 |\n",
      "|Cerato                  |Motor V6             |2011|48796        |false  |Sensor de estacionamento, Bancos de couro         |87975.3  |\n",
      "|Palio Weekend           |Motor 1.8 16v        |2012|10728        |false  |Sensor de estacionamento, Bancos de couro         |97497.73 |\n",
      "|X6                      |Motor Diesel V6      |1990|55289        |false  |Câmera de estacionamento, Sensor de estacionamento|103596.18|\n",
      "|Pajero Sport            |Motor 1.0 8v         |2002|101193       |false  |Sensor de estacionamento, Controle de estabilidade|106147.38|\n",
      "|EXTRA 103EX             |Motor 2.0 16v        |2019|null         |true   |Sensor de estacionamento, Sensor de chuva         |112033.27|\n",
      "|Partner                 |Motor 2.4 Turbo      |2019|null         |true   |Central multimídia, Sensor de estacionamento      |114531.74|\n",
      "|HB20S                   |Motor V8             |2008|610          |false  |Teto panorâmico, Sensor de estacionamento         |116281.21|\n",
      "|Range Rover Sport       |Motor 1.0 8v         |1997|41498        |false  |Sensor de estacionamento, Piloto automático       |120481.74|\n",
      "|Parati                  |Motor Diesel V8      |2019|null         |true   |Sensor de estacionamento, Controle de estabilidade|121708.73|\n",
      "|Benni Mini              |Motor V8             |2019|null         |true   |Sensor crepuscular, Sensor de estacionamento      |126247.84|\n",
      "|Aston Martin DB7 Vantage|Motor V6             |2007|119513       |false  |Sensor crepuscular, Sensor de estacionamento      |128694.23|\n",
      "|Accord                  |Motor V8             |2019|null         |true   |Sensor de estacionamento, Câmera de estacionamento|131961.44|\n",
      "|L200 Savana             |Motor 2.0 16v        |2012|9293         |false  |Sensor de chuva, Sensor de estacionamento         |132384.77|\n",
      "|RX 350                  |Motor V6             |2013|2314         |false  |Piloto automático, Sensor de estacionamento       |138823.81|\n",
      "|Jetta                   |Motor 5.0 V8 Bi-Turbo|2002|79577        |false  |Central multimídia, Sensor de estacionamento      |140934.6 |\n",
      "|Aston Martin One-77     |Motor V6             |1993|30705        |false  |Sensor de estacionamento, Vidros elétricos        |141982.94|\n",
      "|Golf                    |Motor 1.0 8v         |2018|17924        |false  |Rodas de liga, Sensor de estacionamento           |146203.34|\n",
      "+------------------------+---------------------+----+-------------+-------+--------------------------------------------------+---------+\n",
      "\n"
     ]
    }
   ],
   "source": [
    "df = df.drop(col('Status'))\n",
    "df.filter(df[\"Acessorios\"].like(\"%Sensor de estacionamento%\")).orderBy(\"valor\").show(50,truncate=False)"
   ]
  },
  {
   "cell_type": "code",
   "execution_count": 24,
   "metadata": {},
   "outputs": [
    {
     "name": "stdout",
     "output_type": "stream",
     "text": [
      "+-------------------+---------------+----+-------------+-------+--------------------------------------------------+---------+\n",
      "|Nome               |Motor          |Ano |Quilometragem|Zero_km|Acessorios                                        |valor    |\n",
      "+-------------------+---------------+----+-------------+-------+--------------------------------------------------+---------+\n",
      "|Accord             |Motor V8       |2019|null         |true   |Sensor de estacionamento, Câmera de estacionamento|131961.44|\n",
      "|Benni Mini         |Motor V8       |2019|null         |true   |Sensor crepuscular, Sensor de estacionamento      |126247.84|\n",
      "|Parati             |Motor Diesel V8|2019|null         |true   |Sensor de estacionamento, Controle de estabilidade|121708.73|\n",
      "|Ford Edge          |Motor Diesel V6|2002|12859        |false  |Sensor crepuscular, Ar condicionado               |71647.59 |\n",
      "|Lamborghini Obvious|Motor Diesel V6|1994|98079        |false  |Rodas de liga, Sensor crepuscular                 |133529.84|\n",
      "|Up!                |Motor Diesel V6|2019|null         |true   |Sensor de estacionamento, Piloto automático       |71367.1  |\n",
      "|Lancer Evolution X |Motor Diesel V6|2019|null         |true   |Vidros elétricos, Central multimídia              |142392.75|\n",
      "|SW4                |Motor Diesel V6|1994|23802        |false  |Sensor de chuva, Rodas de liga                    |122485.68|\n",
      "|Cadillac XTS sedan |Motor Diesel V6|1993|90924        |false  |Ar condicionado, Painel digital                   |52207.45 |\n",
      "|Tiida Hatch        |Motor Diesel V6|2004|33215        |false  |Teto panorâmico, Rodas de liga                    |83431.66 |\n",
      "|Classe C           |Motor Diesel V6|1998|31639        |false  |Freios ABS, Controle de estabilidade              |137670.23|\n",
      "|C5 Tourer          |Motor Diesel V6|1999|80187        |false  |Rodas de liga, 4 X 4                              |147627.81|\n",
      "|X6                 |Motor Diesel V6|1990|55289        |false  |Câmera de estacionamento, Sensor de estacionamento|103596.18|\n",
      "|Classe G           |Motor Diesel V6|2012|96800        |false  |Controle de estabilidade, Teto panorâmico         |65847.69 |\n",
      "|Freelander 2       |Motor Diesel V6|2002|114942       |false  |4 X 4, Teto panorâmico                            |77397.05 |\n",
      "|Fluence            |Motor Diesel V6|1995|49907        |false  |Sensor crepuscular, Central multimídia            |125398.11|\n",
      "|Cadenza            |Motor Diesel V6|1990|52804        |false  |Sensor crepuscular, Ar condicionado               |93776.52 |\n",
      "|Cadillac ATS       |Motor Diesel V6|1991|32056        |false  |Piloto automático, Sensor crepuscular             |122069.97|\n",
      "|Série 3 M3 Sedã    |Motor Diesel V6|1992|74886        |false  |Painel digital, 4 X 4                             |113090.32|\n",
      "|Classe CLS 63 AMG  |Motor Diesel V6|2016|68678        |false  |Freios ABS, Travas elétricas                      |118161.48|\n",
      "|Mohave             |Motor Diesel V6|2001|43814        |false  |Travas elétricas, Sensor crepuscular              |119074.55|\n",
      "|Phantom III        |Motor Diesel V6|2008|4420         |false  |Vidros elétricos, Controle de tração              |65138.03 |\n",
      "|Uno                |Motor Diesel V6|2019|null         |true   |Central multimídia, Câmbio automático             |128852.21|\n",
      "|Macan              |Motor Diesel V6|1992|50188        |false  |Central multimídia, Travas elétricas              |90381.47 |\n",
      "|New Fiesta Hatch   |Motor Diesel   |2017|118895       |false  |Sensor de estacionamento, Sensor crepuscular      |66007.16 |\n",
      "|Partner            |Motor 2.4 Turbo|2019|null         |true   |Central multimídia, Sensor de estacionamento      |114531.74|\n",
      "|EXTRA 103EX        |Motor 2.0 16v  |2019|null         |true   |Sensor de estacionamento, Sensor de chuva         |112033.27|\n",
      "|Livina             |Motor 2.0 16v  |2019|null         |true   |Sensor crepuscular, Sensor de estacionamento      |50742.1  |\n",
      "|Optima             |Motor 1.8 16v  |2019|null         |true   |Central multimídia, Sensor de estacionamento      |86641.34 |\n",
      "|Golf               |Motor 1.0 8v   |2018|17924        |false  |Rodas de liga, Sensor de estacionamento           |146203.34|\n",
      "+-------------------+---------------+----+-------------+-------+--------------------------------------------------+---------+\n",
      "\n"
     ]
    }
   ],
   "source": [
    "df.filter((col('Motor')==\"Motor Diesel V6\") | (col(\"Ano\")>2015)\\\n",
    "           & (df[\"Acessorios\"].like(\"%Sensor de estacionamento%\")))\\\n",
    "            .orderBy('Motor', ascending=False).show(50,truncate=False)"
   ]
  },
  {
   "cell_type": "code",
   "execution_count": 25,
   "metadata": {},
   "outputs": [
    {
     "name": "stdout",
     "output_type": "stream",
     "text": [
      "+----------------+--------------------+----+-------------+-------+--------------------+---------+-----------+\n",
      "|            Nome|               Motor| Ano|Quilometragem|Zero_km|          Acessorios|    valor|valor_atual|\n",
      "+----------------+--------------------+----+-------------+-------+--------------------+---------+-----------+\n",
      "|   Jetta Variant|     Motor 4.0 Turbo|2003|        44410|  false|Rodas de liga, Se...| 88078.64|   90078.64|\n",
      "|          Passat|        Motor Diesel|1991|         5712|  false|Central multimídi...|106161.94|  108161.94|\n",
      "|        Crossfox|     Motor Diesel V8|1990|        37123|  false|Piloto automático...| 72832.16|   74832.16|\n",
      "|             DS5|     Motor 2.4 Turbo|2019|         null|   true|Travas elétricas,...|124549.07|  126549.07|\n",
      "|Aston Martin DB4|     Motor 2.4 Turbo|2006|        25757|  false|Rodas de liga, Pi...|  92612.1|    94612.1|\n",
      "|   Palio Weekend|       Motor 1.8 16v|2012|        10728|  false|Sensor de estacio...| 97497.73|   99497.73|\n",
      "|              A5|     Motor 4.0 Turbo|2019|         null|   true|Câmbio automático...|  56445.2|    58445.2|\n",
      "|  Série 3 Cabrio|        Motor 1.0 8v|2009|        77599|  false|Controle de estab...|112310.44|  114310.44|\n",
      "|    Dodge Jorney|       Motor 3.0 32v|2010|        99197|  false|Vidros elétricos,...|120716.27|  122716.27|\n",
      "|          Carens|Motor 5.0 V8 Bi-T...|2011|        37978|  false|Ar condicionado, ...| 76566.49|   78566.49|\n",
      "|       Ford Edge|     Motor Diesel V6|2002|        12859|  false|Sensor crepuscula...| 71647.59|   73647.59|\n",
      "|         Courier|     Motor Diesel V8|2007|         8052|  false|Central multimídi...| 73919.53|   75919.53|\n",
      "|            S-18|            Motor V6|2001|        89773|  false|Bancos de couro, ...|112732.99|  114732.99|\n",
      "|              J5|            Motor V6|2019|         null|   true|Sensor crepuscula...| 53183.38|   55183.38|\n",
      "|    F-Type Coupé|Motor 5.0 V8 Bi-T...|2009|        41457|  false|Piloto automático...|127488.42|  129488.42|\n",
      "|             RAM|     Motor Diesel V8|2016|       115607|  false|Sensor crepuscula...|  59910.4|    61910.4|\n",
      "|         Série 1|       Motor 3.0 32v|2012|        46449|  false|Teto panorâmico, ...| 61118.59|   63118.59|\n",
      "|              A3|        Motor 1.0 8v|2019|         null|   true|4 X 4, Sensor de ...| 88552.39|   90552.39|\n",
      "|            XC90|        Motor 1.0 8v|2016|        37086|  false|Travas elétricas,...| 62696.69|   64696.69|\n",
      "|  RS 3 Sportback|       Motor 3.0 32v|2017|        15173|  false|4 X 4, Sensor cre...| 101726.3|   103726.3|\n",
      "+----------------+--------------------+----+-------------+-------+--------------------+---------+-----------+\n",
      "only showing top 20 rows\n",
      "\n"
     ]
    }
   ],
   "source": [
    "df.withColumn(\"valor_atual\", df[\"valor\"]+ 2000).show()"
   ]
  },
  {
   "cell_type": "code",
   "execution_count": 26,
   "metadata": {},
   "outputs": [
    {
     "name": "stdout",
     "output_type": "stream",
     "text": [
      "+-------------------+--------------------+----+-------------+-------+--------------------+---------+\n",
      "|               Nome|               Motor| Ano|Quilometragem|Zero_km|          Acessorios|    valor|\n",
      "+-------------------+--------------------+----+-------------+-------+--------------------+---------+\n",
      "|      Jetta Variant|     Motor 4.0 Turbo|2003|        44410|  false|Rodas de liga, Se...| 88078.64|\n",
      "|             Passat|        Motor Diesel|1991|         5712|  false|Central multimídi...|106161.94|\n",
      "|           Crossfox|     Motor Diesel V8|1990|        37123|  false|Piloto automático...| 72832.16|\n",
      "|                DS5|     Motor 2.4 Turbo|2019|         null|   true|Travas elétricas,...|124549.07|\n",
      "|   Aston Martin DB4|     Motor 2.4 Turbo|2006|        25757|  false|Rodas de liga, Pi...|  92612.1|\n",
      "|      Palio Weekend|       Motor 1.8 16v|2012|        10728|  false|Sensor de estacio...| 97497.73|\n",
      "|                 A5|     Motor 4.0 Turbo|2019|         null|   true|Câmbio automático...|  56445.2|\n",
      "|     Série 3 Cabrio|        Motor 1.0 8v|2009|        77599|  false|Controle de estab...|112310.44|\n",
      "|             Carens|Motor 5.0 V8 Bi-T...|2011|        37978|  false|Ar condicionado, ...| 76566.49|\n",
      "|          Ford Edge|     Motor Diesel V6|2002|        12859|  false|Sensor crepuscula...| 71647.59|\n",
      "|            Courier|     Motor Diesel V8|2007|         8052|  false|Central multimídi...| 73919.53|\n",
      "|               S-18|            Motor V6|2001|        89773|  false|Bancos de couro, ...|112732.99|\n",
      "|                 J5|            Motor V6|2019|         null|   true|Sensor crepuscula...| 53183.38|\n",
      "|       F-Type Coupé|Motor 5.0 V8 Bi-T...|2009|        41457|  false|Piloto automático...|127488.42|\n",
      "|                RAM|     Motor Diesel V8|2016|       115607|  false|Sensor crepuscula...|  59910.4|\n",
      "|                 A3|        Motor 1.0 8v|2019|         null|   true|4 X 4, Sensor de ...| 88552.39|\n",
      "|               XC90|        Motor 1.0 8v|2016|        37086|  false|Travas elétricas,...| 62696.69|\n",
      "|       Pajero Sport|        Motor 1.0 8v|2002|       101193|  false|Sensor de estacio...|106147.38|\n",
      "|          Série 1 M|            Motor V8|2019|         null|   true|Controle de estab...|  94564.4|\n",
      "|Lamborghini Obvious|     Motor Diesel V6|1994|        98079|  false|Rodas de liga, Se...|133529.84|\n",
      "+-------------------+--------------------+----+-------------+-------+--------------------+---------+\n",
      "only showing top 20 rows\n",
      "\n"
     ]
    }
   ],
   "source": [
    "df.filter(~(col(\"Motor\")==\"Motor 3.0 32v\")).show()"
   ]
  },
  {
   "cell_type": "code",
   "execution_count": 27,
   "metadata": {},
   "outputs": [],
   "source": [
    "media2 = df.select(avg('valor').alias('valor_medio'))"
   ]
  },
  {
   "cell_type": "code",
   "execution_count": 28,
   "metadata": {},
   "outputs": [
    {
     "name": "stdout",
     "output_type": "stream",
     "text": [
      "+-----------+\n",
      "|valor_medio|\n",
      "+-----------+\n",
      "|   98,961.0|\n",
      "+-----------+\n",
      "\n"
     ]
    }
   ],
   "source": [
    "media2.withColumn(\"valor_medio\", col(\"valor_medio\").cast(FloatType()))\n",
    "media2.withColumn(\"valor_medio\", format_number(round(col('valor_medio')), 1)).show()"
   ]
  },
  {
   "cell_type": "code",
   "execution_count": 29,
   "metadata": {},
   "outputs": [
    {
     "name": "stdout",
     "output_type": "stream",
     "text": [
      "+----------------+--------------------+----+-------------+-------+--------------------+-----------+\n",
      "|            Nome|               Motor| Ano|Quilometragem|Zero_km|          Acessorios|      valor|\n",
      "+----------------+--------------------+----+-------------+-------+--------------------+-----------+\n",
      "|   Jetta Variant|     Motor 4.0 Turbo|2003|        44410|  false|Rodas de liga, Se...|00088078.64|\n",
      "|          Passat|        Motor Diesel|1991|         5712|  false|Central multimídi...|00106161.94|\n",
      "|        Crossfox|     Motor Diesel V8|1990|        37123|  false|Piloto automático...|00072832.16|\n",
      "|             DS5|     Motor 2.4 Turbo|2019|         null|   true|Travas elétricas,...|00124549.07|\n",
      "|Aston Martin DB4|     Motor 2.4 Turbo|2006|        25757|  false|Rodas de liga, Pi...|000092612.1|\n",
      "|   Palio Weekend|       Motor 1.8 16v|2012|        10728|  false|Sensor de estacio...|00097497.73|\n",
      "|              A5|     Motor 4.0 Turbo|2019|         null|   true|Câmbio automático...|000056445.2|\n",
      "|  Série 3 Cabrio|        Motor 1.0 8v|2009|        77599|  false|Controle de estab...|00112310.44|\n",
      "|    Dodge Jorney|       Motor 3.0 32v|2010|        99197|  false|Vidros elétricos,...|00120716.27|\n",
      "|          Carens|Motor 5.0 V8 Bi-T...|2011|        37978|  false|Ar condicionado, ...|00076566.49|\n",
      "|       Ford Edge|     Motor Diesel V6|2002|        12859|  false|Sensor crepuscula...|00071647.59|\n",
      "|         Courier|     Motor Diesel V8|2007|         8052|  false|Central multimídi...|00073919.53|\n",
      "|            S-18|            Motor V6|2001|        89773|  false|Bancos de couro, ...|00112732.99|\n",
      "|              J5|            Motor V6|2019|         null|   true|Sensor crepuscula...|00053183.38|\n",
      "|    F-Type Coupé|Motor 5.0 V8 Bi-T...|2009|        41457|  false|Piloto automático...|00127488.42|\n",
      "|             RAM|     Motor Diesel V8|2016|       115607|  false|Sensor crepuscula...|000059910.4|\n",
      "|         Série 1|       Motor 3.0 32v|2012|        46449|  false|Teto panorâmico, ...|00061118.59|\n",
      "|              A3|        Motor 1.0 8v|2019|         null|   true|4 X 4, Sensor de ...|00088552.39|\n",
      "|            XC90|        Motor 1.0 8v|2016|        37086|  false|Travas elétricas,...|00062696.69|\n",
      "|  RS 3 Sportback|       Motor 3.0 32v|2017|        15173|  false|4 X 4, Sensor cre...|000101726.3|\n",
      "+----------------+--------------------+----+-------------+-------+--------------------+-----------+\n",
      "only showing top 20 rows\n",
      "\n"
     ]
    }
   ],
   "source": [
    "df.withColumn(\"valor\", lpad(col(\"valor\"), 11, \"0\")).show() #Só para teste mesmo!"
   ]
  },
  {
   "cell_type": "code",
   "execution_count": 30,
   "metadata": {},
   "outputs": [
    {
     "name": "stdout",
     "output_type": "stream",
     "text": [
      "+----------------+--------------------+----+-------------+-------+--------------------+---------+\n",
      "|            Nome|               Motor| Ano|Quilometragem|Zero_km|          Acessorios|    valor|\n",
      "+----------------+--------------------+----+-------------+-------+--------------------+---------+\n",
      "|   Jetta Variant|     Motor 4.0 Turbo|2003|        44410|  false|Rodas de liga, Se...| 88078.64|\n",
      "|          Passat|        Motor Diesel|1991|         5712|  false|Central multimídi...|106161.94|\n",
      "|        Crossfox|     Motor Diesel V8|1990|        37123|  false|Piloto automático...| 72832.16|\n",
      "|             DS5|     Motor 2.4 Turbo|2019|         null|   true|Travas elétricas,...|124549.07|\n",
      "|Aston Martin DB4|     Motor 2.4 Turbo|2006|        25757|  false|Rodas de liga, Pi...|  92612.1|\n",
      "|   Palio Weekend|       Motor 1.8 16v|2012|        10728|  false|Sensor de estacio...| 97497.73|\n",
      "|              A5|     Motor 4.0 Turbo|2019|         null|   true|Câmbio automático...|  56445.2|\n",
      "|  Série 3 Cabrio|        Motor 1.0 8v|2009|        77599|  false|Controle de estab...|112310.44|\n",
      "|    Dodge Jorney|       Motor 3.0 32v|2010|        99197|  false|Vidros elétricos,...|120716.27|\n",
      "|          Carens|Motor 5.0 V8 Bi-T...|2011|        37978|  false|Ar condicionado, ...| 76566.49|\n",
      "|       Ford Edge|     Motor Diesel V6|2002|        12859|  false|Sensor crepuscula...| 71647.59|\n",
      "|         Courier|     Motor Diesel V8|2007|         8052|  false|Central multimídi...| 73919.53|\n",
      "|            S-18|            Motor V6|2001|        89773|  false|Bancos de couro, ...|112732.99|\n",
      "|              J5|            Motor V6|2019|         null|   true|Sensor crepuscula...| 53183.38|\n",
      "|    F-Type Coupé|Motor 5.0 V8 Bi-T...|2009|        41457|  false|Piloto automático...|127488.42|\n",
      "|             RAM|     Motor Diesel V8|2016|       115607|  false|Sensor crepuscula...|  59910.4|\n",
      "|         Série 1|       Motor 3.0 32v|2012|        46449|  false|Teto panorâmico, ...| 61118.59|\n",
      "|              A3|        Motor 1.0 8v|2019|         null|   true|4 X 4, Sensor de ...| 88552.39|\n",
      "|            XC90|        Motor 1.0 8v|2016|        37086|  false|Travas elétricas,...| 62696.69|\n",
      "|  RS 3 Sportback|       Motor 3.0 32v|2017|        15173|  false|4 X 4, Sensor cre...| 101726.3|\n",
      "+----------------+--------------------+----+-------------+-------+--------------------+---------+\n",
      "only showing top 20 rows\n",
      "\n"
     ]
    }
   ],
   "source": [
    "df.show()\n"
   ]
  },
  {
   "cell_type": "code",
   "execution_count": 31,
   "metadata": {},
   "outputs": [],
   "source": [
    "df = df.na.drop(how=\"any\",thresh=6)"
   ]
  },
  {
   "cell_type": "code",
   "execution_count": 32,
   "metadata": {},
   "outputs": [
    {
     "data": {
      "text/plain": [
       "Nome              0\n",
       "Motor             0\n",
       "Ano               0\n",
       "Quilometragem    61\n",
       "Zero_km           0\n",
       "Acessorios        0\n",
       "valor             0\n",
       "dtype: int64"
      ]
     },
     "execution_count": 32,
     "metadata": {},
     "output_type": "execute_result"
    }
   ],
   "source": [
    "df.toPandas().isna().sum()"
   ]
  },
  {
   "cell_type": "code",
   "execution_count": 64,
   "metadata": {},
   "outputs": [],
   "source": [
    "da = df.withColumn(\"less_80\", when(col(\"valor\")< 80000, 1).otherwise(0))\\\n",
    "            .groupBy(\"Zero_km\").agg((100*(sum(\"less_80\")/count(\"*\"))).alias(\"abaixo_de_80k\"))"
   ]
  },
  {
   "cell_type": "code",
   "execution_count": 64,
   "metadata": {},
   "outputs": [],
   "source": [
    "ds = df.groupBy(\"Zero_km\").agg(count(\"*\").alias(\"qtd_0km\"))"
   ]
  },
  {
   "cell_type": "code",
   "execution_count": 65,
   "metadata": {},
   "outputs": [
    {
     "name": "stdout",
     "output_type": "stream",
     "text": [
      "+-------+-------+\n",
      "|Zero_km|qtd_0km|\n",
      "+-------+-------+\n",
      "|   null|      1|\n",
      "|   true|     61|\n",
      "|  false|    196|\n",
      "+-------+-------+\n",
      "\n"
     ]
    }
   ],
   "source": [
    "ds.show()"
   ]
  },
  {
   "cell_type": "code",
   "execution_count": 66,
   "metadata": {},
   "outputs": [
    {
     "name": "stdout",
     "output_type": "stream",
     "text": [
      "+-------+-------+------------------+\n",
      "|Zero_km|qtd_0km|     abaixo_de_80k|\n",
      "+-------+-------+------------------+\n",
      "|   true|     61| 27.86885245901639|\n",
      "|  false|    196|35.204081632653065|\n",
      "+-------+-------+------------------+\n",
      "\n"
     ]
    }
   ],
   "source": [
    "ds.join(da,on=\"Zero_km\", how=\"right\").show()"
   ]
  },
  {
   "cell_type": "code",
   "execution_count": 63,
   "metadata": {},
   "outputs": [
    {
     "name": "stdout",
     "output_type": "stream",
     "text": [
      "+-------+-------+------------------+\n",
      "|Zero_km|qtd_0km|     abaixo_de_80k|\n",
      "+-------+-------+------------------+\n",
      "|   true|     61| 27.86885245901639|\n",
      "|  false|    196|35.204081632653065|\n",
      "+-------+-------+------------------+\n",
      "\n"
     ]
    }
   ],
   "source": [
    "ds.join(da, \"Zero_km\").show()"
   ]
  },
  {
   "cell_type": "code",
   "execution_count": 67,
   "metadata": {},
   "outputs": [
    {
     "name": "stdout",
     "output_type": "stream",
     "text": [
      "+-------+-------+------------------+\n",
      "|Zero_km|qtd_0km|     abaixo_de_80k|\n",
      "+-------+-------+------------------+\n",
      "|   true|     61| 27.86885245901639|\n",
      "|  false|    196|35.204081632653065|\n",
      "+-------+-------+------------------+\n",
      "\n"
     ]
    }
   ],
   "source": [
    "ds = ds.join(da, \"Zero_km\",how=\"right\")\n",
    "ds.show()"
   ]
  },
  {
   "cell_type": "code",
   "execution_count": 36,
   "metadata": {},
   "outputs": [
    {
     "name": "stdout",
     "output_type": "stream",
     "text": [
      "+-------+-------+-------------+\n",
      "|Zero_km|qtd_0km|abaixo_de_80k|\n",
      "+-------+-------+-------------+\n",
      "|   true|     61|        27.87|\n",
      "|  false|    196|        35.20|\n",
      "+-------+-------+-------------+\n",
      "\n"
     ]
    }
   ],
   "source": [
    "ds = ds.withColumn(\"abaixo_de_80k\", format_number(round(col(\"abaixo_de_80k\"),2),2))\n",
    "ds.show()"
   ]
  },
  {
   "cell_type": "code",
   "execution_count": 37,
   "metadata": {},
   "outputs": [],
   "source": [
    "nulos = df.withColumn(\"default\", lit(\"\"))"
   ]
  },
  {
   "cell_type": "code",
   "execution_count": 38,
   "metadata": {},
   "outputs": [
    {
     "name": "stdout",
     "output_type": "stream",
     "text": [
      "+----------------+--------------------+----+-------------+-------+--------------------+---------+-------+\n",
      "|            Nome|               Motor| Ano|Quilometragem|Zero_km|          Acessorios|    valor|default|\n",
      "+----------------+--------------------+----+-------------+-------+--------------------+---------+-------+\n",
      "|   Jetta Variant|     Motor 4.0 Turbo|2003|        44410|  false|Rodas de liga, Se...| 88078.64|       |\n",
      "|          Passat|        Motor Diesel|1991|         5712|  false|Central multimídi...|106161.94|       |\n",
      "|        Crossfox|     Motor Diesel V8|1990|        37123|  false|Piloto automático...| 72832.16|       |\n",
      "|             DS5|     Motor 2.4 Turbo|2019|         null|   true|Travas elétricas,...|124549.07|       |\n",
      "|Aston Martin DB4|     Motor 2.4 Turbo|2006|        25757|  false|Rodas de liga, Pi...|  92612.1|       |\n",
      "|   Palio Weekend|       Motor 1.8 16v|2012|        10728|  false|Sensor de estacio...| 97497.73|       |\n",
      "|              A5|     Motor 4.0 Turbo|2019|         null|   true|Câmbio automático...|  56445.2|       |\n",
      "|  Série 3 Cabrio|        Motor 1.0 8v|2009|        77599|  false|Controle de estab...|112310.44|       |\n",
      "|    Dodge Jorney|       Motor 3.0 32v|2010|        99197|  false|Vidros elétricos,...|120716.27|       |\n",
      "|          Carens|Motor 5.0 V8 Bi-T...|2011|        37978|  false|Ar condicionado, ...| 76566.49|       |\n",
      "|       Ford Edge|     Motor Diesel V6|2002|        12859|  false|Sensor crepuscula...| 71647.59|       |\n",
      "|         Courier|     Motor Diesel V8|2007|         8052|  false|Central multimídi...| 73919.53|       |\n",
      "|            S-18|            Motor V6|2001|        89773|  false|Bancos de couro, ...|112732.99|       |\n",
      "|              J5|            Motor V6|2019|         null|   true|Sensor crepuscula...| 53183.38|       |\n",
      "|    F-Type Coupé|Motor 5.0 V8 Bi-T...|2009|        41457|  false|Piloto automático...|127488.42|       |\n",
      "|             RAM|     Motor Diesel V8|2016|       115607|  false|Sensor crepuscula...|  59910.4|       |\n",
      "|         Série 1|       Motor 3.0 32v|2012|        46449|  false|Teto panorâmico, ...| 61118.59|       |\n",
      "|              A3|        Motor 1.0 8v|2019|         null|   true|4 X 4, Sensor de ...| 88552.39|       |\n",
      "|            XC90|        Motor 1.0 8v|2016|        37086|  false|Travas elétricas,...| 62696.69|       |\n",
      "|  RS 3 Sportback|       Motor 3.0 32v|2017|        15173|  false|4 X 4, Sensor cre...| 101726.3|       |\n",
      "+----------------+--------------------+----+-------------+-------+--------------------+---------+-------+\n",
      "only showing top 20 rows\n",
      "\n"
     ]
    }
   ],
   "source": [
    "nulos.show()"
   ]
  },
  {
   "cell_type": "code",
   "execution_count": 11,
   "metadata": {},
   "outputs": [
    {
     "name": "stdout",
     "output_type": "stream",
     "text": [
      "+----------------+--------------------+----+-------------+-------+--------------------+---------+\n",
      "|            Nome|               Motor| Ano|Quilometragem|Zero_km|          Acessorios|    valor|\n",
      "+----------------+--------------------+----+-------------+-------+--------------------+---------+\n",
      "|   Jetta Variant|     Motor 4.0 Turbo|2003|        44410|  false|Rodas de liga, Se...| 88078.64|\n",
      "|          Passat|        Motor Diesel|1991|         5712|  false|Central multimídi...|106161.94|\n",
      "|        Crossfox|     Motor Diesel V8|1990|        37123|  false|Piloto automático...| 72832.16|\n",
      "|             DS5|     Motor 2.4 Turbo|2019|         null|   true|Travas elétricas,...|124549.07|\n",
      "|Aston Martin DB4|     Motor 2.4 Turbo|2006|        25757|  false|Rodas de liga, Pi...|  92612.1|\n",
      "|   Palio Weekend|       Motor 1.8 16v|2012|        10728|  false|Sensor de estacio...| 97497.73|\n",
      "|              A5|     Motor 4.0 Turbo|2019|         null|   true|Câmbio automático...|  56445.2|\n",
      "|  Série 3 Cabrio|        Motor 1.0 8v|2009|        77599|  false|Controle de estab...|112310.44|\n",
      "|    Dodge Jorney|       Motor 3.0 32v|2010|        99197|  false|Vidros elétricos,...|120716.27|\n",
      "|          Carens|Motor 5.0 V8 Bi-T...|2011|        37978|  false|Ar condicionado, ...| 76566.49|\n",
      "|       Ford Edge|     Motor Diesel V6|2002|        12859|  false|Sensor crepuscula...| 71647.59|\n",
      "|         Courier|     Motor Diesel V8|2007|         8052|  false|Central multimídi...| 73919.53|\n",
      "|            S-18|            Motor V6|2001|        89773|  false|Bancos de couro, ...|112732.99|\n",
      "|              J5|            Motor V6|2019|         null|   true|Sensor crepuscula...| 53183.38|\n",
      "|    F-Type Coupé|Motor 5.0 V8 Bi-T...|2009|        41457|  false|Piloto automático...|127488.42|\n",
      "|             RAM|     Motor Diesel V8|2016|       115607|  false|Sensor crepuscula...|  59910.4|\n",
      "|         Série 1|       Motor 3.0 32v|2012|        46449|  false|Teto panorâmico, ...| 61118.59|\n",
      "|              A3|        Motor 1.0 8v|2019|         null|   true|4 X 4, Sensor de ...| 88552.39|\n",
      "|            XC90|        Motor 1.0 8v|2016|        37086|  false|Travas elétricas,...| 62696.69|\n",
      "|  RS 3 Sportback|       Motor 3.0 32v|2017|        15173|  false|4 X 4, Sensor cre...| 101726.3|\n",
      "+----------------+--------------------+----+-------------+-------+--------------------+---------+\n",
      "only showing top 20 rows\n",
      "\n"
     ]
    }
   ],
   "source": [
    "df.show()"
   ]
  },
  {
   "cell_type": "code",
   "execution_count": 74,
   "metadata": {},
   "outputs": [],
   "source": [
    "fig = df.groupBy('Motor').agg(sum(\"Valor\"))\n",
    "fig = fig.na.drop()\n"
   ]
  },
  {
   "cell_type": "code",
   "execution_count": 75,
   "metadata": {},
   "outputs": [],
   "source": [
    "data = fig.toPandas()"
   ]
  },
  {
   "cell_type": "code",
   "execution_count": 76,
   "metadata": {},
   "outputs": [
    {
     "data": {
      "text/html": [
       "<div>\n",
       "<style scoped>\n",
       "    .dataframe tbody tr th:only-of-type {\n",
       "        vertical-align: middle;\n",
       "    }\n",
       "\n",
       "    .dataframe tbody tr th {\n",
       "        vertical-align: top;\n",
       "    }\n",
       "\n",
       "    .dataframe thead th {\n",
       "        text-align: right;\n",
       "    }\n",
       "</style>\n",
       "<table border=\"1\" class=\"dataframe\">\n",
       "  <thead>\n",
       "    <tr style=\"text-align: right;\">\n",
       "      <th></th>\n",
       "      <th>Motor</th>\n",
       "      <th>sum(Valor)</th>\n",
       "    </tr>\n",
       "  </thead>\n",
       "  <tbody>\n",
       "    <tr>\n",
       "      <th>0</th>\n",
       "      <td>Motor 2.0 16v</td>\n",
       "      <td>1692743.24</td>\n",
       "    </tr>\n",
       "    <tr>\n",
       "      <th>1</th>\n",
       "      <td>Motor 3.0 32v</td>\n",
       "      <td>2531865.82</td>\n",
       "    </tr>\n",
       "    <tr>\n",
       "      <th>2</th>\n",
       "      <td>Motor 1.0 8v</td>\n",
       "      <td>2445824.48</td>\n",
       "    </tr>\n",
       "    <tr>\n",
       "      <th>3</th>\n",
       "      <td>Motor Diesel V6</td>\n",
       "      <td>2185143.69</td>\n",
       "    </tr>\n",
       "    <tr>\n",
       "      <th>4</th>\n",
       "      <td>Motor Diesel V8</td>\n",
       "      <td>2175194.17</td>\n",
       "    </tr>\n",
       "    <tr>\n",
       "      <th>5</th>\n",
       "      <td>Motor 5.0 V8 Bi-Turbo</td>\n",
       "      <td>1960270.24</td>\n",
       "    </tr>\n",
       "    <tr>\n",
       "      <th>6</th>\n",
       "      <td>Motor 1.8 16v</td>\n",
       "      <td>1509704.20</td>\n",
       "    </tr>\n",
       "    <tr>\n",
       "      <th>7</th>\n",
       "      <td>Motor V8</td>\n",
       "      <td>2418495.23</td>\n",
       "    </tr>\n",
       "    <tr>\n",
       "      <th>8</th>\n",
       "      <td>Motor V6</td>\n",
       "      <td>2149434.50</td>\n",
       "    </tr>\n",
       "    <tr>\n",
       "      <th>9</th>\n",
       "      <td>Motor Diesel</td>\n",
       "      <td>2786678.60</td>\n",
       "    </tr>\n",
       "    <tr>\n",
       "      <th>10</th>\n",
       "      <td>Motor 2.4 Turbo</td>\n",
       "      <td>991049.85</td>\n",
       "    </tr>\n",
       "    <tr>\n",
       "      <th>11</th>\n",
       "      <td>Motor 4.0 Turbo</td>\n",
       "      <td>2557598.30</td>\n",
       "    </tr>\n",
       "  </tbody>\n",
       "</table>\n",
       "</div>"
      ],
      "text/plain": [
       "                    Motor  sum(Valor)\n",
       "0           Motor 2.0 16v  1692743.24\n",
       "1           Motor 3.0 32v  2531865.82\n",
       "2            Motor 1.0 8v  2445824.48\n",
       "3         Motor Diesel V6  2185143.69\n",
       "4         Motor Diesel V8  2175194.17\n",
       "5   Motor 5.0 V8 Bi-Turbo  1960270.24\n",
       "6           Motor 1.8 16v  1509704.20\n",
       "7                Motor V8  2418495.23\n",
       "8                Motor V6  2149434.50\n",
       "9            Motor Diesel  2786678.60\n",
       "10        Motor 2.4 Turbo   991049.85\n",
       "11        Motor 4.0 Turbo  2557598.30"
      ]
     },
     "metadata": {},
     "output_type": "display_data"
    }
   ],
   "source": [
    "display(data)"
   ]
  },
  {
   "cell_type": "code",
   "execution_count": 77,
   "metadata": {},
   "outputs": [
    {
     "data": {
      "text/plain": [
       "[Text(0, 0, 'Motor 2.0 16v'),\n",
       " Text(1, 0, 'Motor 3.0 32v'),\n",
       " Text(2, 0, 'Motor 1.0 8v'),\n",
       " Text(3, 0, 'Motor Diesel V6'),\n",
       " Text(4, 0, 'Motor Diesel V8'),\n",
       " Text(5, 0, 'Motor 5.0 V8 Bi-Turbo'),\n",
       " Text(6, 0, 'Motor 1.8 16v'),\n",
       " Text(7, 0, 'Motor V8'),\n",
       " Text(8, 0, 'Motor V6'),\n",
       " Text(9, 0, 'Motor Diesel'),\n",
       " Text(10, 0, 'Motor 2.4 Turbo'),\n",
       " Text(11, 0, 'Motor 4.0 Turbo')]"
      ]
     },
     "execution_count": 77,
     "metadata": {},
     "output_type": "execute_result"
    },
    {
     "data": {
      "image/png": "[encoded data removed]",
      "text/plain": [
       "<Figure size 800x500 with 1 Axes>"
      ]
     },
     "metadata": {},
     "output_type": "display_data"
    }
   ],
   "source": [
    "fig = data[[\"sum(Valor)\"]].plot(figsize=(8,5), kind='bar')\n",
    "fig.set_xticklabels(data[\"Motor\"])\n",
    "\n",
    "\n",
    "#AAAAHHHHH"
   ]
  }
 ],
 "metadata": {
  "kernelspec": {
   "display_name": "Python 3",
   "language": "python",
   "name": "python3"
  },
  "language_info": {
   "codemirror_mode": {
    "name": "ipython",
    "version": 3
   },
   "file_extension": ".py",
   "mimetype": "text/x-python",
   "name": "python",
   "nbconvert_exporter": "python",
   "pygments_lexer": "ipython3",
   "version": "3.11.4"
  },
  "orig_nbformat": 4
 },
 "nbformat": 4,
 "nbformat_minor": 2
}
